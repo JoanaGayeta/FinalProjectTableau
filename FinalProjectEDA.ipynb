{
 "cells": [
  {
   "cell_type": "markdown",
   "id": "d71a4246-1467-42d3-ab1e-cfaf745a1ded",
   "metadata": {},
   "source": [
    "# **Dataset on the growth of Streamers during Pandemic**"
   ]
  },
  {
   "cell_type": "markdown",
   "id": "775d8c50-b7fc-4438-ba5b-f4ea300fdd45",
   "metadata": {},
   "source": [
    "*A detailed interpretation and analysis of the data gathered from the streamers in Facebook and Twitch*"
   ]
  },
  {
   "cell_type": "markdown",
   "id": "c5ee61e5-3670-4198-aeb4-09156cf7fbbb",
   "metadata": {},
   "source": [
    "---"
   ]
  },
  {
   "cell_type": "markdown",
   "id": "73897d36-1811-4f2c-a3c2-2ca72f88046a",
   "metadata": {},
   "source": [
    "### Potential uses of the Dataset"
   ]
  },
  {
   "cell_type": "markdown",
   "id": "b374f769-1386-421b-869d-3e74454b6602",
   "metadata": {},
   "source": [
    "This Dataset can be used by organizations to help them determine how different individuals cope up with the quarantine. <br>\n",
    "In addition, this dataset can also be used to show how the streaming community grew during the pandemic."
   ]
  },
  {
   "cell_type": "markdown",
   "id": "e5d32a69-1993-476a-a958-556770207a39",
   "metadata": {},
   "source": [
    "### Data gathering process"
   ]
  },
  {
   "cell_type": "markdown",
   "id": "80f02d5b-d41c-4e53-aa85-8682ded9b286",
   "metadata": {},
   "source": [
    "*This part will discuss how our team gathered the current data in our dataset, and the obstacles we have run to as we collect these data.*"
   ]
  },
  {
   "cell_type": "markdown",
   "id": "2f04f5bd-62ff-4127-88e5-6ac137e46543",
   "metadata": {},
   "source": [
    "Since **Facebook and Twitch, our primary source of data,** does **not allow** or for in the case of Twitch, has an API but doesn't provide access to historical information, our team decided to gather these data **manually**. We spent days gathering these data because one of our variables involves the date when the streamers have started dtreaming and unluckily, most of the streamers doesn't include it on the information of their pages. Thus, we have to scroll and look for their first video content or first live stream, so that we can determine when the started. In addition to this, we also wanted to inform everyone that due to the time constraints, we were unable to contact the streamers and inform them that we will be using their information for this project, we just assumed that there will be no problem since the data that we have collected were displayed publicly in their pages. So if some are planning to use it for other purposes, it might be better to contact the streamers first for data privacy concerns. "
   ]
  },
  {
   "cell_type": "markdown",
   "id": "bbb71d45-4bfd-4ed9-94fe-85781a577a84",
   "metadata": {},
   "source": [
    "### Information about the data gathered"
   ]
  },
  {
   "cell_type": "markdown",
   "id": "1259c27e-fe4a-460f-b2b3-55411f6014cb",
   "metadata": {},
   "source": [
    "*In this part, we are to discuss the information on the current dataset that we have and give the interpretation and analyzation for each*"
   ]
  },
  {
   "cell_type": "markdown",
   "id": "1b64cc85-a1a2-4758-bbb5-2d1944d4d8b9",
   "metadata": {},
   "source": [
    "From a total of **253 streamers** in our dataset, we will show you the:<br>\n",
    "**Bivariate** <br>\n",
    "- Genders of the streamers in the dataset\n",
    "- Age of the streamers in the dataset\n",
    "- Country of the streamers in the dataset\n",
    "- Top 20 streamers with most followers based from the current dataset (as of June 01,2021)\n",
    "- Percentage on which platform is most commonly used by the streamers in the data set.\n",
    "- Percentage on the number of streamers per gaming community in the dataset. (Top 1,2,3 games of each streamer)\n",
    "- Year that the streamers in the dataset started. \n",
    "<br>\n",
    "**Multivariate** <br>\n",
    "- Relationship between Age and Platform used\n",
    "- Relationship between Gender and Platform used\n",
    "- Relation between Gender and the games played by the streamers. (Top 1,2,3 games of each streamer)\n",
    "- Year started of the top 20 streamers (based on their followers).\n",
    "- Gender of the top 20 streamers (based on their followers)."
   ]
  },
  {
   "cell_type": "markdown",
   "id": "78830871-9678-48f5-b583-b5457d6f5b01",
   "metadata": {},
   "source": [
    "---"
   ]
  },
  {
   "cell_type": "markdown",
   "id": "ccaaf1ab-7836-41ad-a8a0-d0ede22810a2",
   "metadata": {},
   "source": [
    "#### Coding Process before analyzing each variable"
   ]
  },
  {
   "cell_type": "markdown",
   "id": "29434fc8-ca1a-4b00-a4c3-113c8c85a063",
   "metadata": {},
   "source": [
    "**Step 1.** Import all necessary packages"
   ]
  },
  {
   "cell_type": "code",
   "execution_count": 1,
   "id": "65184913-60e6-4951-b419-ae31ef545966",
   "metadata": {},
   "outputs": [
    {
     "name": "stdout",
     "output_type": "stream",
     "text": [
      "Populating the interactive namespace from numpy and matplotlib\n"
     ]
    }
   ],
   "source": [
    "import math\n",
    "import pandas as pd\n",
    "import numpy as np\n",
    "import matplotlib.pyplot as plt\n",
    "import seaborn as sns\n",
    "\n",
    "from scipy.stats import zscore\n",
    "from scipy.stats import pearsonr\n",
    "\n",
    "%pylab inline"
   ]
  },
  {
   "cell_type": "markdown",
   "id": "ecffaf21-af59-40bc-94a5-56650609aa2a",
   "metadata": {},
   "source": [
    "**Step 2.** Open and read the DataSet"
   ]
  },
  {
   "cell_type": "code",
   "execution_count": 2,
   "id": "86f13305-1e17-43d3-83f8-ad6ad9167bd9",
   "metadata": {},
   "outputs": [
    {
     "data": {
      "text/html": [
       "<div>\n",
       "<style scoped>\n",
       "    .dataframe tbody tr th:only-of-type {\n",
       "        vertical-align: middle;\n",
       "    }\n",
       "\n",
       "    .dataframe tbody tr th {\n",
       "        vertical-align: top;\n",
       "    }\n",
       "\n",
       "    .dataframe thead th {\n",
       "        text-align: right;\n",
       "    }\n",
       "</style>\n",
       "<table border=\"1\" class=\"dataframe\">\n",
       "  <thead>\n",
       "    <tr style=\"text-align: right;\">\n",
       "      <th></th>\n",
       "      <th>page_name</th>\n",
       "      <th>gender_streamer</th>\n",
       "      <th>age</th>\n",
       "      <th>country</th>\n",
       "      <th>num_followers</th>\n",
       "      <th>platform</th>\n",
       "      <th>streamed_game1</th>\n",
       "      <th>streamed_game2</th>\n",
       "      <th>streamed_game3</th>\n",
       "      <th>date_started</th>\n",
       "      <th>page_link</th>\n",
       "    </tr>\n",
       "  </thead>\n",
       "  <tbody>\n",
       "    <tr>\n",
       "      <th>0</th>\n",
       "      <td>burg</td>\n",
       "      <td>male</td>\n",
       "      <td>18</td>\n",
       "      <td>Philippines</td>\n",
       "      <td>169022</td>\n",
       "      <td>Facebook</td>\n",
       "      <td>Valorant</td>\n",
       "      <td>Phasmophobia</td>\n",
       "      <td>Rust</td>\n",
       "      <td>5/22/2020</td>\n",
       "      <td>https://www.facebook.com/gaming/rsnburg</td>\n",
       "    </tr>\n",
       "    <tr>\n",
       "      <th>1</th>\n",
       "      <td>Razzie Binx</td>\n",
       "      <td>male</td>\n",
       "      <td>-1</td>\n",
       "      <td>Philippines</td>\n",
       "      <td>797062</td>\n",
       "      <td>Facebook</td>\n",
       "      <td>Valorant</td>\n",
       "      <td>Mobile Legends</td>\n",
       "      <td>At Dead of Night</td>\n",
       "      <td>2/28/2015</td>\n",
       "      <td>https://www.facebook.com/gaming/RealRazzieBinx</td>\n",
       "    </tr>\n",
       "    <tr>\n",
       "      <th>2</th>\n",
       "      <td>Ling2x</td>\n",
       "      <td>female</td>\n",
       "      <td>-1</td>\n",
       "      <td>Philippines</td>\n",
       "      <td>159088</td>\n",
       "      <td>Facebook</td>\n",
       "      <td>Valorant</td>\n",
       "      <td>APEX Legends</td>\n",
       "      <td>Call Of Duty: Warzone</td>\n",
       "      <td>10/26/2017</td>\n",
       "      <td>https://www.facebook.com/gaming/L1NG2X</td>\n",
       "    </tr>\n",
       "    <tr>\n",
       "      <th>3</th>\n",
       "      <td>Juweljems</td>\n",
       "      <td>male</td>\n",
       "      <td>17</td>\n",
       "      <td>Philippines</td>\n",
       "      <td>7320</td>\n",
       "      <td>Facebook</td>\n",
       "      <td>Valorant</td>\n",
       "      <td>Phasmophobia</td>\n",
       "      <td>Among Us</td>\n",
       "      <td>8/21/2020</td>\n",
       "      <td>https://www.facebook.com/gaming/juweljems</td>\n",
       "    </tr>\n",
       "    <tr>\n",
       "      <th>4</th>\n",
       "      <td>Diviny</td>\n",
       "      <td>female</td>\n",
       "      <td>-1</td>\n",
       "      <td>Philippines</td>\n",
       "      <td>32456</td>\n",
       "      <td>Facebook</td>\n",
       "      <td>Valorant</td>\n",
       "      <td>APEX Legends</td>\n",
       "      <td>Phasmophobia</td>\n",
       "      <td>05/10/2018</td>\n",
       "      <td>https://www.facebook.com/gaming/ddiviny</td>\n",
       "    </tr>\n",
       "    <tr>\n",
       "      <th>...</th>\n",
       "      <td>...</td>\n",
       "      <td>...</td>\n",
       "      <td>...</td>\n",
       "      <td>...</td>\n",
       "      <td>...</td>\n",
       "      <td>...</td>\n",
       "      <td>...</td>\n",
       "      <td>...</td>\n",
       "      <td>...</td>\n",
       "      <td>...</td>\n",
       "      <td>...</td>\n",
       "    </tr>\n",
       "    <tr>\n",
       "      <th>248</th>\n",
       "      <td>Konnichiwa Gaming</td>\n",
       "      <td>male</td>\n",
       "      <td>-1</td>\n",
       "      <td>Philippines</td>\n",
       "      <td>483</td>\n",
       "      <td>Facebook</td>\n",
       "      <td>Valorant</td>\n",
       "      <td>Fall Guys</td>\n",
       "      <td>DOTA 2</td>\n",
       "      <td>9/30/2020</td>\n",
       "      <td>https://www.facebook.com/KonnichiwaGaming</td>\n",
       "    </tr>\n",
       "    <tr>\n",
       "      <th>249</th>\n",
       "      <td>Larong Tito</td>\n",
       "      <td>male</td>\n",
       "      <td>-1</td>\n",
       "      <td>Philippines</td>\n",
       "      <td>164</td>\n",
       "      <td>Facebook</td>\n",
       "      <td>Mobile Legends</td>\n",
       "      <td>none</td>\n",
       "      <td>none</td>\n",
       "      <td>6/13/2020</td>\n",
       "      <td>https://www.facebook.com/Larong-Tito-107434337...</td>\n",
       "    </tr>\n",
       "    <tr>\n",
       "      <th>250</th>\n",
       "      <td>FLTCasul</td>\n",
       "      <td>male</td>\n",
       "      <td>-1</td>\n",
       "      <td>unavailable</td>\n",
       "      <td>45</td>\n",
       "      <td>Facebook</td>\n",
       "      <td>Nioh 2</td>\n",
       "      <td>Sekiro</td>\n",
       "      <td>none</td>\n",
       "      <td>02/09/2021</td>\n",
       "      <td>https://www.facebook.com/FLTCasul</td>\n",
       "    </tr>\n",
       "    <tr>\n",
       "      <th>251</th>\n",
       "      <td>XIV</td>\n",
       "      <td>male</td>\n",
       "      <td>-1</td>\n",
       "      <td>Philippines</td>\n",
       "      <td>446</td>\n",
       "      <td>Facebook</td>\n",
       "      <td>Valorant</td>\n",
       "      <td>Among Us</td>\n",
       "      <td>Ragnarok Online</td>\n",
       "      <td>1/23/2020</td>\n",
       "      <td>https://www.facebook.com/XIVGamingPH</td>\n",
       "    </tr>\n",
       "    <tr>\n",
       "      <th>252</th>\n",
       "      <td>RanbooLive</td>\n",
       "      <td>male</td>\n",
       "      <td>-1</td>\n",
       "      <td>United States of America</td>\n",
       "      <td>2804352</td>\n",
       "      <td>Twitch</td>\n",
       "      <td>Minecraft</td>\n",
       "      <td>Slime Rancher</td>\n",
       "      <td>Little Nightmares</td>\n",
       "      <td>09/12/2020</td>\n",
       "      <td>https://www.twitch.tv/ranboolive</td>\n",
       "    </tr>\n",
       "  </tbody>\n",
       "</table>\n",
       "<p>253 rows × 11 columns</p>\n",
       "</div>"
      ],
      "text/plain": [
       "             page_name gender_streamer  age                   country  \\\n",
       "0                 burg            male   18               Philippines   \n",
       "1          Razzie Binx            male   -1               Philippines   \n",
       "2               Ling2x          female   -1               Philippines   \n",
       "3            Juweljems            male   17               Philippines   \n",
       "4               Diviny          female   -1               Philippines   \n",
       "..                 ...             ...  ...                       ...   \n",
       "248  Konnichiwa Gaming            male   -1               Philippines   \n",
       "249        Larong Tito            male   -1               Philippines   \n",
       "250           FLTCasul            male   -1               unavailable   \n",
       "251                XIV            male   -1               Philippines   \n",
       "252         RanbooLive            male   -1  United States of America   \n",
       "\n",
       "     num_followers  platform  streamed_game1  streamed_game2  \\\n",
       "0           169022  Facebook        Valorant    Phasmophobia   \n",
       "1           797062  Facebook        Valorant  Mobile Legends   \n",
       "2           159088  Facebook        Valorant    APEX Legends   \n",
       "3             7320  Facebook        Valorant    Phasmophobia   \n",
       "4            32456  Facebook        Valorant    APEX Legends   \n",
       "..             ...       ...             ...             ...   \n",
       "248            483  Facebook        Valorant       Fall Guys   \n",
       "249            164  Facebook  Mobile Legends            none   \n",
       "250             45  Facebook          Nioh 2          Sekiro   \n",
       "251            446  Facebook        Valorant        Among Us   \n",
       "252        2804352    Twitch       Minecraft   Slime Rancher   \n",
       "\n",
       "            streamed_game3 date_started  \\\n",
       "0                     Rust    5/22/2020   \n",
       "1         At Dead of Night    2/28/2015   \n",
       "2    Call Of Duty: Warzone   10/26/2017   \n",
       "3                 Among Us    8/21/2020   \n",
       "4             Phasmophobia   05/10/2018   \n",
       "..                     ...          ...   \n",
       "248                 DOTA 2    9/30/2020   \n",
       "249                   none    6/13/2020   \n",
       "250                   none   02/09/2021   \n",
       "251        Ragnarok Online    1/23/2020   \n",
       "252      Little Nightmares   09/12/2020   \n",
       "\n",
       "                                             page_link  \n",
       "0              https://www.facebook.com/gaming/rsnburg  \n",
       "1       https://www.facebook.com/gaming/RealRazzieBinx  \n",
       "2               https://www.facebook.com/gaming/L1NG2X  \n",
       "3            https://www.facebook.com/gaming/juweljems  \n",
       "4              https://www.facebook.com/gaming/ddiviny  \n",
       "..                                                 ...  \n",
       "248          https://www.facebook.com/KonnichiwaGaming  \n",
       "249  https://www.facebook.com/Larong-Tito-107434337...  \n",
       "250                  https://www.facebook.com/FLTCasul  \n",
       "251               https://www.facebook.com/XIVGamingPH  \n",
       "252                   https://www.twitch.tv/ranboolive  \n",
       "\n",
       "[253 rows x 11 columns]"
      ]
     },
     "execution_count": 2,
     "metadata": {},
     "output_type": "execute_result"
    }
   ],
   "source": [
    "#open the data set\n",
    "data = pd.read_csv('streamers.csv')\n",
    "data"
   ]
  },
  {
   "cell_type": "markdown",
   "id": "6308676d-5ae1-4f50-af4e-14f5aba32575",
   "metadata": {},
   "source": [
    "**Step 3.** Check how many data we have gathered and also the data type of each column"
   ]
  },
  {
   "cell_type": "code",
   "execution_count": 3,
   "id": "6e4d09a9-43f5-4059-8620-785368e4fc9d",
   "metadata": {},
   "outputs": [
    {
     "data": {
      "text/plain": [
       "253"
      ]
     },
     "execution_count": 3,
     "metadata": {},
     "output_type": "execute_result"
    }
   ],
   "source": [
    "len(data)"
   ]
  },
  {
   "cell_type": "code",
   "execution_count": 4,
   "id": "6865d0ba-d03e-4422-8f5f-197b7b0eb52b",
   "metadata": {
    "tags": []
   },
   "outputs": [
    {
     "name": "stdout",
     "output_type": "stream",
     "text": [
      "<class 'pandas.core.frame.DataFrame'>\n",
      "RangeIndex: 253 entries, 0 to 252\n",
      "Data columns (total 11 columns):\n",
      " #   Column           Non-Null Count  Dtype \n",
      "---  ------           --------------  ----- \n",
      " 0   page_name        253 non-null    object\n",
      " 1   gender_streamer  253 non-null    object\n",
      " 2   age              253 non-null    int64 \n",
      " 3   country          253 non-null    object\n",
      " 4   num_followers    253 non-null    int64 \n",
      " 5   platform         253 non-null    object\n",
      " 6   streamed_game1   253 non-null    object\n",
      " 7   streamed_game2   253 non-null    object\n",
      " 8   streamed_game3   253 non-null    object\n",
      " 9   date_started     253 non-null    object\n",
      " 10  page_link        253 non-null    object\n",
      "dtypes: int64(2), object(9)\n",
      "memory usage: 21.9+ KB\n"
     ]
    }
   ],
   "source": [
    "data.info()"
   ]
  },
  {
   "cell_type": "markdown",
   "id": "b4389421-9eb2-410f-93c5-76b8c92a6bee",
   "metadata": {},
   "source": [
    "**Step 4.** Since the column *date_started* is listed as an object, we convert it to datetime"
   ]
  },
  {
   "cell_type": "code",
   "execution_count": 5,
   "id": "734b5884-42f2-4bb6-9ba5-55b42190ac6b",
   "metadata": {
    "tags": []
   },
   "outputs": [
    {
     "name": "stdout",
     "output_type": "stream",
     "text": [
      "<class 'pandas.core.frame.DataFrame'>\n",
      "RangeIndex: 253 entries, 0 to 252\n",
      "Data columns (total 11 columns):\n",
      " #   Column           Non-Null Count  Dtype         \n",
      "---  ------           --------------  -----         \n",
      " 0   page_name        253 non-null    object        \n",
      " 1   gender_streamer  253 non-null    object        \n",
      " 2   age              253 non-null    int64         \n",
      " 3   country          253 non-null    object        \n",
      " 4   num_followers    253 non-null    int64         \n",
      " 5   platform         253 non-null    object        \n",
      " 6   streamed_game1   253 non-null    object        \n",
      " 7   streamed_game2   253 non-null    object        \n",
      " 8   streamed_game3   253 non-null    object        \n",
      " 9   date_started     253 non-null    datetime64[ns]\n",
      " 10  page_link        253 non-null    object        \n",
      "dtypes: datetime64[ns](1), int64(2), object(8)\n",
      "memory usage: 21.9+ KB\n"
     ]
    }
   ],
   "source": [
    "data['date_started'] = data['date_started'].apply(pd.to_datetime)\n",
    "data.info()"
   ]
  },
  {
   "cell_type": "markdown",
   "id": "42b7125e-2d73-4a94-834d-0762f2d2330e",
   "metadata": {},
   "source": [
    "**Step 5.** Having the date_started of each streamer, we only wanted the year they have started streaming, thus we create a new column for it."
   ]
  },
  {
   "cell_type": "code",
   "execution_count": 6,
   "id": "186aa724-0606-45c1-809e-33f5701a4303",
   "metadata": {},
   "outputs": [
    {
     "data": {
      "text/html": [
       "<div>\n",
       "<style scoped>\n",
       "    .dataframe tbody tr th:only-of-type {\n",
       "        vertical-align: middle;\n",
       "    }\n",
       "\n",
       "    .dataframe tbody tr th {\n",
       "        vertical-align: top;\n",
       "    }\n",
       "\n",
       "    .dataframe thead th {\n",
       "        text-align: right;\n",
       "    }\n",
       "</style>\n",
       "<table border=\"1\" class=\"dataframe\">\n",
       "  <thead>\n",
       "    <tr style=\"text-align: right;\">\n",
       "      <th></th>\n",
       "      <th>page_name</th>\n",
       "      <th>gender_streamer</th>\n",
       "      <th>age</th>\n",
       "      <th>country</th>\n",
       "      <th>num_followers</th>\n",
       "      <th>platform</th>\n",
       "      <th>streamed_game1</th>\n",
       "      <th>streamed_game2</th>\n",
       "      <th>streamed_game3</th>\n",
       "      <th>date_started</th>\n",
       "      <th>page_link</th>\n",
       "      <th>year_started</th>\n",
       "    </tr>\n",
       "  </thead>\n",
       "  <tbody>\n",
       "    <tr>\n",
       "      <th>0</th>\n",
       "      <td>burg</td>\n",
       "      <td>male</td>\n",
       "      <td>18</td>\n",
       "      <td>Philippines</td>\n",
       "      <td>169022</td>\n",
       "      <td>Facebook</td>\n",
       "      <td>Valorant</td>\n",
       "      <td>Phasmophobia</td>\n",
       "      <td>Rust</td>\n",
       "      <td>2020-05-22</td>\n",
       "      <td>https://www.facebook.com/gaming/rsnburg</td>\n",
       "      <td>2020</td>\n",
       "    </tr>\n",
       "    <tr>\n",
       "      <th>1</th>\n",
       "      <td>Razzie Binx</td>\n",
       "      <td>male</td>\n",
       "      <td>-1</td>\n",
       "      <td>Philippines</td>\n",
       "      <td>797062</td>\n",
       "      <td>Facebook</td>\n",
       "      <td>Valorant</td>\n",
       "      <td>Mobile Legends</td>\n",
       "      <td>At Dead of Night</td>\n",
       "      <td>2015-02-28</td>\n",
       "      <td>https://www.facebook.com/gaming/RealRazzieBinx</td>\n",
       "      <td>2015</td>\n",
       "    </tr>\n",
       "    <tr>\n",
       "      <th>2</th>\n",
       "      <td>Ling2x</td>\n",
       "      <td>female</td>\n",
       "      <td>-1</td>\n",
       "      <td>Philippines</td>\n",
       "      <td>159088</td>\n",
       "      <td>Facebook</td>\n",
       "      <td>Valorant</td>\n",
       "      <td>APEX Legends</td>\n",
       "      <td>Call Of Duty: Warzone</td>\n",
       "      <td>2017-10-26</td>\n",
       "      <td>https://www.facebook.com/gaming/L1NG2X</td>\n",
       "      <td>2017</td>\n",
       "    </tr>\n",
       "    <tr>\n",
       "      <th>3</th>\n",
       "      <td>Juweljems</td>\n",
       "      <td>male</td>\n",
       "      <td>17</td>\n",
       "      <td>Philippines</td>\n",
       "      <td>7320</td>\n",
       "      <td>Facebook</td>\n",
       "      <td>Valorant</td>\n",
       "      <td>Phasmophobia</td>\n",
       "      <td>Among Us</td>\n",
       "      <td>2020-08-21</td>\n",
       "      <td>https://www.facebook.com/gaming/juweljems</td>\n",
       "      <td>2020</td>\n",
       "    </tr>\n",
       "    <tr>\n",
       "      <th>4</th>\n",
       "      <td>Diviny</td>\n",
       "      <td>female</td>\n",
       "      <td>-1</td>\n",
       "      <td>Philippines</td>\n",
       "      <td>32456</td>\n",
       "      <td>Facebook</td>\n",
       "      <td>Valorant</td>\n",
       "      <td>APEX Legends</td>\n",
       "      <td>Phasmophobia</td>\n",
       "      <td>2018-05-10</td>\n",
       "      <td>https://www.facebook.com/gaming/ddiviny</td>\n",
       "      <td>2018</td>\n",
       "    </tr>\n",
       "  </tbody>\n",
       "</table>\n",
       "</div>"
      ],
      "text/plain": [
       "     page_name gender_streamer  age      country  num_followers  platform  \\\n",
       "0         burg            male   18  Philippines         169022  Facebook   \n",
       "1  Razzie Binx            male   -1  Philippines         797062  Facebook   \n",
       "2       Ling2x          female   -1  Philippines         159088  Facebook   \n",
       "3    Juweljems            male   17  Philippines           7320  Facebook   \n",
       "4       Diviny          female   -1  Philippines          32456  Facebook   \n",
       "\n",
       "  streamed_game1  streamed_game2         streamed_game3 date_started  \\\n",
       "0       Valorant    Phasmophobia                   Rust   2020-05-22   \n",
       "1       Valorant  Mobile Legends       At Dead of Night   2015-02-28   \n",
       "2       Valorant    APEX Legends  Call Of Duty: Warzone   2017-10-26   \n",
       "3       Valorant    Phasmophobia               Among Us   2020-08-21   \n",
       "4       Valorant    APEX Legends           Phasmophobia   2018-05-10   \n",
       "\n",
       "                                        page_link  year_started  \n",
       "0         https://www.facebook.com/gaming/rsnburg          2020  \n",
       "1  https://www.facebook.com/gaming/RealRazzieBinx          2015  \n",
       "2          https://www.facebook.com/gaming/L1NG2X          2017  \n",
       "3       https://www.facebook.com/gaming/juweljems          2020  \n",
       "4         https://www.facebook.com/gaming/ddiviny          2018  "
      ]
     },
     "execution_count": 6,
     "metadata": {},
     "output_type": "execute_result"
    }
   ],
   "source": [
    "data['year_started'] = data['date_started'].dt.year\n",
    "data.head()"
   ]
  },
  {
   "cell_type": "code",
   "execution_count": 7,
   "id": "6f1c7ffc-3406-4c67-baa8-4f0afd67ee1b",
   "metadata": {},
   "outputs": [],
   "source": [
    "data.to_csv('streamers_cleaned.csv', index=False)"
   ]
  },
  {
   "cell_type": "markdown",
   "id": "6f15cea4-25b9-411a-8b82-c447f1dbf16d",
   "metadata": {},
   "source": [
    "##### With our data organized, we can now start analyzing the data set."
   ]
  },
  {
   "cell_type": "markdown",
   "id": "90e1339a-c437-4b2b-b54e-143c74bcec5c",
   "metadata": {},
   "source": [
    "---"
   ]
  },
  {
   "cell_type": "markdown",
   "id": "410c0c47-ff0b-40a2-a365-a4a73005640f",
   "metadata": {},
   "source": [
    "### Gender of Streamers"
   ]
  },
  {
   "cell_type": "code",
   "execution_count": 8,
   "id": "e93ddfae-0689-4a73-a4b1-f76b8a33b050",
   "metadata": {},
   "outputs": [
    {
     "data": {
      "text/html": [
       "<div>\n",
       "<style scoped>\n",
       "    .dataframe tbody tr th:only-of-type {\n",
       "        vertical-align: middle;\n",
       "    }\n",
       "\n",
       "    .dataframe tbody tr th {\n",
       "        vertical-align: top;\n",
       "    }\n",
       "\n",
       "    .dataframe thead th {\n",
       "        text-align: right;\n",
       "    }\n",
       "</style>\n",
       "<table border=\"1\" class=\"dataframe\">\n",
       "  <thead>\n",
       "    <tr style=\"text-align: right;\">\n",
       "      <th></th>\n",
       "      <th>gender</th>\n",
       "      <th>counts</th>\n",
       "    </tr>\n",
       "  </thead>\n",
       "  <tbody>\n",
       "    <tr>\n",
       "      <th>0</th>\n",
       "      <td>male</td>\n",
       "      <td>169</td>\n",
       "    </tr>\n",
       "    <tr>\n",
       "      <th>1</th>\n",
       "      <td>female</td>\n",
       "      <td>84</td>\n",
       "    </tr>\n",
       "  </tbody>\n",
       "</table>\n",
       "</div>"
      ],
      "text/plain": [
       "   gender  counts\n",
       "0    male     169\n",
       "1  female      84"
      ]
     },
     "execution_count": 8,
     "metadata": {},
     "output_type": "execute_result"
    }
   ],
   "source": [
    "#Create a new table that will contain the number of male and female streamers in our data set\n",
    "\n",
    "gender_table = data[\"gender_streamer\"].value_counts().rename_axis('gender').reset_index(name='counts')\n",
    "gender_table"
   ]
  },
  {
   "cell_type": "code",
   "execution_count": 9,
   "id": "b22bb87c-f032-4d31-ade7-2ba17808d2fd",
   "metadata": {},
   "outputs": [
    {
     "data": {
      "text/plain": [
       "Text(0.5, 1.0, 'Bar graph of the gender of streamers')"
      ]
     },
     "execution_count": 9,
     "metadata": {},
     "output_type": "execute_result"
    },
    {
     "data": {
      "image/png": "[encoded data removed]",
      "text/plain": [
       "<Figure size 1440x360 with 2 Axes>"
      ]
     },
     "metadata": {
      "needs_background": "light"
     },
     "output_type": "display_data"
    }
   ],
   "source": [
    "# Create a pie and bar graph that will graphically represent he table\n",
    "fig = plt.figure(figsize=(20, 5))\n",
    "ax = fig.add_gridspec(1,2)\n",
    "pie = fig.add_subplot(ax[0, 0])\n",
    "bar = fig.add_subplot(ax[0, 1])\n",
    "\n",
    "\n",
    "gender_pie = gender_table['counts'].plot(ax=pie, kind='pie', labels = [\"male\",\"female\"], colors = [\"green\", \"orange\"],autopct='%1.2f%%',frame = True)\n",
    "pie.set_title('Pie graph of the gender of streamers', fontsize=15)\n",
    "\n",
    "gender_bar = gender_table['counts'].plot(ax=bar, kind='bar',color = [\"green\",\"orange\"], width=0.5 )\n",
    "bar.set_xticklabels(['male','female'], rotation=0, fontsize=12)\n",
    "bar.set_title('Bar graph of the gender of streamers', fontsize=15)\n"
   ]
  },
  {
   "cell_type": "markdown",
   "id": "33a6ce09-f50c-43f2-9c19-84b60ecf2f76",
   "metadata": {},
   "source": [
    "#### **Observation**"
   ]
  },
  {
   "cell_type": "markdown",
   "id": "93773cae-74bd-4cbf-b74c-f587d8e94cdf",
   "metadata": {},
   "source": [
    "It can be seen from the graphs that most of the streamers in the dataset are males compared to females. With this, it can be said that most streamers are males."
   ]
  },
  {
   "cell_type": "markdown",
   "id": "795574b3-6953-497b-9fce-30961371b2f9",
   "metadata": {},
   "source": [
    "### Age of Streamers"
   ]
  },
  {
   "cell_type": "code",
   "execution_count": 10,
   "id": "f115b03c-a711-4fe2-9b16-d378ef2f9295",
   "metadata": {},
   "outputs": [
    {
     "data": {
      "text/html": [
       "<div>\n",
       "<style scoped>\n",
       "    .dataframe tbody tr th:only-of-type {\n",
       "        vertical-align: middle;\n",
       "    }\n",
       "\n",
       "    .dataframe tbody tr th {\n",
       "        vertical-align: top;\n",
       "    }\n",
       "\n",
       "    .dataframe thead th {\n",
       "        text-align: right;\n",
       "    }\n",
       "</style>\n",
       "<table border=\"1\" class=\"dataframe\">\n",
       "  <thead>\n",
       "    <tr style=\"text-align: right;\">\n",
       "      <th></th>\n",
       "      <th>age</th>\n",
       "      <th>counts</th>\n",
       "    </tr>\n",
       "  </thead>\n",
       "  <tbody>\n",
       "    <tr>\n",
       "      <th>0</th>\n",
       "      <td>-1</td>\n",
       "      <td>230</td>\n",
       "    </tr>\n",
       "    <tr>\n",
       "      <th>5</th>\n",
       "      <td>17</td>\n",
       "      <td>2</td>\n",
       "    </tr>\n",
       "    <tr>\n",
       "      <th>6</th>\n",
       "      <td>18</td>\n",
       "      <td>1</td>\n",
       "    </tr>\n",
       "    <tr>\n",
       "      <th>3</th>\n",
       "      <td>19</td>\n",
       "      <td>3</td>\n",
       "    </tr>\n",
       "    <tr>\n",
       "      <th>2</th>\n",
       "      <td>20</td>\n",
       "      <td>4</td>\n",
       "    </tr>\n",
       "    <tr>\n",
       "      <th>4</th>\n",
       "      <td>21</td>\n",
       "      <td>3</td>\n",
       "    </tr>\n",
       "    <tr>\n",
       "      <th>1</th>\n",
       "      <td>22</td>\n",
       "      <td>5</td>\n",
       "    </tr>\n",
       "    <tr>\n",
       "      <th>7</th>\n",
       "      <td>23</td>\n",
       "      <td>1</td>\n",
       "    </tr>\n",
       "    <tr>\n",
       "      <th>8</th>\n",
       "      <td>28</td>\n",
       "      <td>1</td>\n",
       "    </tr>\n",
       "    <tr>\n",
       "      <th>9</th>\n",
       "      <td>30</td>\n",
       "      <td>1</td>\n",
       "    </tr>\n",
       "    <tr>\n",
       "      <th>10</th>\n",
       "      <td>33</td>\n",
       "      <td>1</td>\n",
       "    </tr>\n",
       "    <tr>\n",
       "      <th>11</th>\n",
       "      <td>46</td>\n",
       "      <td>1</td>\n",
       "    </tr>\n",
       "  </tbody>\n",
       "</table>\n",
       "</div>"
      ],
      "text/plain": [
       "    age  counts\n",
       "0    -1     230\n",
       "5    17       2\n",
       "6    18       1\n",
       "3    19       3\n",
       "2    20       4\n",
       "4    21       3\n",
       "1    22       5\n",
       "7    23       1\n",
       "8    28       1\n",
       "9    30       1\n",
       "10   33       1\n",
       "11   46       1"
      ]
     },
     "execution_count": 10,
     "metadata": {},
     "output_type": "execute_result"
    }
   ],
   "source": [
    "#Create a table that will categorize each streamer in the dataset according to their age\n",
    "\n",
    "age_table = data[\"age\"].value_counts().rename_axis('age').reset_index(name='counts')\n",
    "age_table = age_table.sort_values(by=['age'])\n",
    "age_table"
   ]
  },
  {
   "cell_type": "code",
   "execution_count": 11,
   "id": "a9c4dd00-b92c-49a6-9ede-2250dbf1d31b",
   "metadata": {},
   "outputs": [
    {
     "data": {
      "text/plain": [
       "[(0.0, 10.0)]"
      ]
     },
     "execution_count": 11,
     "metadata": {},
     "output_type": "execute_result"
    },
    {
     "data": {
      "image/png": "[encoded data removed]",
      "text/plain": [
       "<Figure size 720x360 with 1 Axes>"
      ]
     },
     "metadata": {
      "needs_background": "light"
     },
     "output_type": "display_data"
    }
   ],
   "source": [
    "#Create a bar graph to graphically represent the table that we got.\n",
    "fig = plt.figure(figsize=(10, 5))\n",
    "ax = fig.add_gridspec(1,1)\n",
    "bar = fig.add_subplot(ax[0, 0])\n",
    "\n",
    "age_bar = age_table['counts'].plot(ax=bar, kind='bar', width=0.5, color=\"green\" )\n",
    "bar.set_title('Bar graph of the age of streamers', fontsize=15)\n",
    "bar.set_xticklabels(['unknown', '17','18','19','20','21','22','23','28','30','33','46'], rotation=0, fontsize=12)\n",
    "bar.set(ylim=(0,10))"
   ]
  },
  {
   "cell_type": "markdown",
   "id": "6e272ed6-c224-4f33-a5eb-dbb747c08af9",
   "metadata": {},
   "source": [
    "#### **Observation**"
   ]
  },
  {
   "cell_type": "markdown",
   "id": "1fe1a4fc-3d34-4603-83d4-85e96f1bde46",
   "metadata": {},
   "source": [
    "There are streamers who do not want to share their age and the majority from the data we got chose to do so. The bar graph shows that 19-22 are the ages that is common for the streaming community. It can be because the trending games are much more inclined in that age bracket. We can see that there are few streamers in ages 23 up to 46 and that is because not everyone can make a career out of streaming gaming content. We think that those who can in that age bracket are mostly retired professional gamers since they garnered a large fanbase that can cover their financial needs through subscriptions."
   ]
  },
  {
   "cell_type": "markdown",
   "id": "22a919ee-0653-448b-9787-16e1614dc6fd",
   "metadata": {},
   "source": [
    "### Country of Streamers"
   ]
  },
  {
   "cell_type": "code",
   "execution_count": 12,
   "id": "f68e6066-810c-4e16-a337-b53dbb23bca2",
   "metadata": {},
   "outputs": [
    {
     "data": {
      "text/html": [
       "<div>\n",
       "<style scoped>\n",
       "    .dataframe tbody tr th:only-of-type {\n",
       "        vertical-align: middle;\n",
       "    }\n",
       "\n",
       "    .dataframe tbody tr th {\n",
       "        vertical-align: top;\n",
       "    }\n",
       "\n",
       "    .dataframe thead th {\n",
       "        text-align: right;\n",
       "    }\n",
       "</style>\n",
       "<table border=\"1\" class=\"dataframe\">\n",
       "  <thead>\n",
       "    <tr style=\"text-align: right;\">\n",
       "      <th></th>\n",
       "      <th>country</th>\n",
       "      <th>counts</th>\n",
       "    </tr>\n",
       "  </thead>\n",
       "  <tbody>\n",
       "    <tr>\n",
       "      <th>0</th>\n",
       "      <td>Philippines</td>\n",
       "      <td>174</td>\n",
       "    </tr>\n",
       "    <tr>\n",
       "      <th>1</th>\n",
       "      <td>unavailable</td>\n",
       "      <td>38</td>\n",
       "    </tr>\n",
       "    <tr>\n",
       "      <th>2</th>\n",
       "      <td>US</td>\n",
       "      <td>11</td>\n",
       "    </tr>\n",
       "    <tr>\n",
       "      <th>3</th>\n",
       "      <td>France</td>\n",
       "      <td>5</td>\n",
       "    </tr>\n",
       "    <tr>\n",
       "      <th>4</th>\n",
       "      <td>Canada</td>\n",
       "      <td>4</td>\n",
       "    </tr>\n",
       "    <tr>\n",
       "      <th>5</th>\n",
       "      <td>Spain</td>\n",
       "      <td>3</td>\n",
       "    </tr>\n",
       "    <tr>\n",
       "      <th>6</th>\n",
       "      <td>Russia</td>\n",
       "      <td>2</td>\n",
       "    </tr>\n",
       "    <tr>\n",
       "      <th>7</th>\n",
       "      <td>Singapore</td>\n",
       "      <td>2</td>\n",
       "    </tr>\n",
       "    <tr>\n",
       "      <th>8</th>\n",
       "      <td>Turkey</td>\n",
       "      <td>2</td>\n",
       "    </tr>\n",
       "    <tr>\n",
       "      <th>9</th>\n",
       "      <td>UK</td>\n",
       "      <td>2</td>\n",
       "    </tr>\n",
       "    <tr>\n",
       "      <th>10</th>\n",
       "      <td>Australia</td>\n",
       "      <td>2</td>\n",
       "    </tr>\n",
       "    <tr>\n",
       "      <th>11</th>\n",
       "      <td>Belgium</td>\n",
       "      <td>1</td>\n",
       "    </tr>\n",
       "    <tr>\n",
       "      <th>12</th>\n",
       "      <td>Germany</td>\n",
       "      <td>1</td>\n",
       "    </tr>\n",
       "    <tr>\n",
       "      <th>13</th>\n",
       "      <td>Portugal</td>\n",
       "      <td>1</td>\n",
       "    </tr>\n",
       "    <tr>\n",
       "      <th>14</th>\n",
       "      <td>New Zealand</td>\n",
       "      <td>1</td>\n",
       "    </tr>\n",
       "    <tr>\n",
       "      <th>15</th>\n",
       "      <td>India</td>\n",
       "      <td>1</td>\n",
       "    </tr>\n",
       "    <tr>\n",
       "      <th>16</th>\n",
       "      <td>United States of America</td>\n",
       "      <td>1</td>\n",
       "    </tr>\n",
       "    <tr>\n",
       "      <th>17</th>\n",
       "      <td>Indonesia</td>\n",
       "      <td>1</td>\n",
       "    </tr>\n",
       "    <tr>\n",
       "      <th>18</th>\n",
       "      <td>Italy</td>\n",
       "      <td>1</td>\n",
       "    </tr>\n",
       "  </tbody>\n",
       "</table>\n",
       "</div>"
      ],
      "text/plain": [
       "                     country  counts\n",
       "0                Philippines     174\n",
       "1                unavailable      38\n",
       "2                         US      11\n",
       "3                     France       5\n",
       "4                     Canada       4\n",
       "5                      Spain       3\n",
       "6                     Russia       2\n",
       "7                  Singapore       2\n",
       "8                     Turkey       2\n",
       "9                         UK       2\n",
       "10                 Australia       2\n",
       "11                   Belgium       1\n",
       "12                   Germany       1\n",
       "13                  Portugal       1\n",
       "14               New Zealand       1\n",
       "15                     India       1\n",
       "16  United States of America       1\n",
       "17                 Indonesia       1\n",
       "18                     Italy       1"
      ]
     },
     "execution_count": 12,
     "metadata": {},
     "output_type": "execute_result"
    }
   ],
   "source": [
    "#Create a table that will categorize each streamer in the dataset according to their country\n",
    "country_table = data['country'].value_counts().rename_axis('country').reset_index(name='counts')\n",
    "country_table"
   ]
  },
  {
   "cell_type": "code",
   "execution_count": 13,
   "id": "4aa60129-1559-419a-897d-67401ac58fbb",
   "metadata": {},
   "outputs": [
    {
     "data": {
      "image/png": "[encoded data removed]",
      "text/plain": [
       "<Figure size 1440x720 with 1 Axes>"
      ]
     },
     "metadata": {},
     "output_type": "display_data"
    },
    {
     "data": {
      "image/png": "[encoded data removed]",
      "text/plain": [
       "<Figure size 360x360 with 1 Axes>"
      ]
     },
     "metadata": {
      "needs_background": "light"
     },
     "output_type": "display_data"
    }
   ],
   "source": [
    "#Create a bar graph to graphically represent the table that we got.\n",
    "fig = plt.figure(figsize=(20, 10))\n",
    "\n",
    "country_pie = country_table['counts'].plot( kind='pie', labels = ['Philippines',\"unavilable\", 'US','France',\n",
    "                                                                   'Canada','Spain','Russia','Turkey','Singapore','UK','Australia',\n",
    "                                                                 'Germany','Belgium','Indonesia', 'USA',\n",
    "                                                                  'India','Portugal','New Zealand','Italy']\n",
    "                                     ,autopct='%1.2f%%')\n",
    "pie.set_title('Pie graph ', fontsize=15)\n",
    "fig.set_facecolor('white')\n",
    "\n",
    "country_plot = sns.catplot(y=\"country\", x=\"counts\", orient=\"h\", kind=\"bar\", data=country_table)"
   ]
  },
  {
   "cell_type": "markdown",
   "id": "04fd63a9-8a53-4927-9883-8e4ca5bc162a",
   "metadata": {},
   "source": [
    "#### **Observation**"
   ]
  },
  {
   "cell_type": "markdown",
   "id": "d155db75-2ac9-40ae-98de-880007ed22ee",
   "metadata": {},
   "source": [
    "In the pie chart, Philippines has the highest percentage and we think the reason for this is because we, the data gatherers live in this country and that most of the recommended streamers from the sites we gathered from are local ones. There are streamers who have unavailable countries in our data because they do not share it in their channel's info. It is hard to make guesses from where the country the streamer lives because there are some who speak their native language in other countries as a language for their streaming."
   ]
  },
  {
   "cell_type": "markdown",
   "id": "9bdfdb71-3bcf-435d-9b18-29ea2fd0d762",
   "metadata": {},
   "source": [
    "### Platform used by the streamers"
   ]
  },
  {
   "cell_type": "code",
   "execution_count": 14,
   "id": "d6d380e3-8bb9-4314-99e4-5773d0959f0e",
   "metadata": {},
   "outputs": [
    {
     "data": {
      "text/html": [
       "<div>\n",
       "<style scoped>\n",
       "    .dataframe tbody tr th:only-of-type {\n",
       "        vertical-align: middle;\n",
       "    }\n",
       "\n",
       "    .dataframe tbody tr th {\n",
       "        vertical-align: top;\n",
       "    }\n",
       "\n",
       "    .dataframe thead th {\n",
       "        text-align: right;\n",
       "    }\n",
       "</style>\n",
       "<table border=\"1\" class=\"dataframe\">\n",
       "  <thead>\n",
       "    <tr style=\"text-align: right;\">\n",
       "      <th></th>\n",
       "      <th>platform</th>\n",
       "      <th>counts</th>\n",
       "    </tr>\n",
       "  </thead>\n",
       "  <tbody>\n",
       "    <tr>\n",
       "      <th>0</th>\n",
       "      <td>Facebook</td>\n",
       "      <td>174</td>\n",
       "    </tr>\n",
       "    <tr>\n",
       "      <th>1</th>\n",
       "      <td>Twitch</td>\n",
       "      <td>79</td>\n",
       "    </tr>\n",
       "  </tbody>\n",
       "</table>\n",
       "</div>"
      ],
      "text/plain": [
       "   platform  counts\n",
       "0  Facebook     174\n",
       "1    Twitch      79"
      ]
     },
     "execution_count": 14,
     "metadata": {},
     "output_type": "execute_result"
    }
   ],
   "source": [
    "#Create a table that will categorize each streamer in the dataset according to their age\n",
    "\n",
    "plat_table = data[\"platform\"].value_counts().rename_axis('platform').reset_index(name='counts')\n",
    "plat_table"
   ]
  },
  {
   "cell_type": "code",
   "execution_count": 15,
   "id": "1a1cfb24-51bc-4790-83ab-83a96de2df6a",
   "metadata": {},
   "outputs": [
    {
     "data": {
      "text/plain": [
       "Text(0.5, 1.0, 'Bar graph of the platforms used by streamers')"
      ]
     },
     "execution_count": 15,
     "metadata": {},
     "output_type": "execute_result"
    },
    {
     "data": {
      "image/png": "[encoded data removed]",
      "text/plain": [
       "<Figure size 1440x360 with 2 Axes>"
      ]
     },
     "metadata": {
      "needs_background": "light"
     },
     "output_type": "display_data"
    }
   ],
   "source": [
    "# Create a pie and bar graph that will graphically represent he table\n",
    "fig = plt.figure(figsize=(20, 5))\n",
    "ax = fig.add_gridspec(1,2)\n",
    "pie = fig.add_subplot(ax[0, 0])\n",
    "bar = fig.add_subplot(ax[0, 1])\n",
    "\n",
    "\n",
    "plat_pie = plat_table['counts'].plot(ax=pie, kind='pie', labels = [\"Facebook\",\"Twitch\"], colors = [\"blue\", \"violet\"],autopct='%1.2f%%',frame = True)\n",
    "pie.set_title('Pie graph of the platforms used by streamers', fontsize=15)\n",
    "\n",
    "plat_bar = plat_table['counts'].plot(ax=bar, kind='bar',color = [\"blue\",\"violet\"], width=0.5 )\n",
    "bar.set_xticklabels(['Facebook','Twitch'], rotation=0, fontsize=12)\n",
    "bar.set_title('Bar graph of the platforms used by streamers', fontsize=15)\n"
   ]
  },
  {
   "cell_type": "markdown",
   "id": "28e236bf-c4ae-40d0-ad06-ba3089a3cdd4",
   "metadata": {},
   "source": [
    "#### **Observation**"
   ]
  },
  {
   "cell_type": "markdown",
   "id": "eafcfefa-8939-497d-a2fd-7f59edb5e824",
   "metadata": {},
   "source": [
    "We can see that streamers prefer to use Facebook as a streaming platform rather than Twitch but as we can recall with the countries where the streamers are in our dataset, the majority are from the Philippines and Filipino streamers prefer to use Facebook because it is more convenient for the viewers rather than Twitch."
   ]
  },
  {
   "cell_type": "markdown",
   "id": "6f9364ef-b65c-4849-ba3c-c1fe7d7ae3b3",
   "metadata": {},
   "source": [
    "### Top 20 Streamers according to followers"
   ]
  },
  {
   "cell_type": "code",
   "execution_count": 16,
   "id": "e5db3ccc-2422-4c81-86cc-a6b1c1d9ac13",
   "metadata": {},
   "outputs": [
    {
     "data": {
      "text/html": [
       "<div>\n",
       "<style scoped>\n",
       "    .dataframe tbody tr th:only-of-type {\n",
       "        vertical-align: middle;\n",
       "    }\n",
       "\n",
       "    .dataframe tbody tr th {\n",
       "        vertical-align: top;\n",
       "    }\n",
       "\n",
       "    .dataframe thead th {\n",
       "        text-align: right;\n",
       "    }\n",
       "</style>\n",
       "<table border=\"1\" class=\"dataframe\">\n",
       "  <thead>\n",
       "    <tr style=\"text-align: right;\">\n",
       "      <th></th>\n",
       "      <th>page_name</th>\n",
       "      <th>gender_streamer</th>\n",
       "      <th>age</th>\n",
       "      <th>country</th>\n",
       "      <th>num_followers</th>\n",
       "      <th>platform</th>\n",
       "      <th>streamed_game1</th>\n",
       "      <th>streamed_game2</th>\n",
       "      <th>streamed_game3</th>\n",
       "      <th>date_started</th>\n",
       "      <th>page_link</th>\n",
       "      <th>year_started</th>\n",
       "    </tr>\n",
       "  </thead>\n",
       "  <tbody>\n",
       "    <tr>\n",
       "      <th>69</th>\n",
       "      <td>ChooxTv</td>\n",
       "      <td>male</td>\n",
       "      <td>30</td>\n",
       "      <td>Philippines</td>\n",
       "      <td>9900000</td>\n",
       "      <td>Facebook</td>\n",
       "      <td>Mobile Legends</td>\n",
       "      <td>none</td>\n",
       "      <td>none</td>\n",
       "      <td>2017-08-19</td>\n",
       "      <td>https://www.facebook.com/CHoOxTV</td>\n",
       "      <td>2017</td>\n",
       "    </tr>\n",
       "    <tr>\n",
       "      <th>61</th>\n",
       "      <td>Alodia Gosiengfiao</td>\n",
       "      <td>female</td>\n",
       "      <td>33</td>\n",
       "      <td>Philippines</td>\n",
       "      <td>7491615</td>\n",
       "      <td>Facebook</td>\n",
       "      <td>Valorant</td>\n",
       "      <td>Warzone</td>\n",
       "      <td>League of Legends</td>\n",
       "      <td>2018-03-14</td>\n",
       "      <td>https://www.facebook.com/AlodiaGosiengfiao/?re...</td>\n",
       "      <td>2018</td>\n",
       "    </tr>\n",
       "    <tr>\n",
       "      <th>167</th>\n",
       "      <td>Akosi Dogie</td>\n",
       "      <td>male</td>\n",
       "      <td>-1</td>\n",
       "      <td>Philippines</td>\n",
       "      <td>6854756</td>\n",
       "      <td>Facebook</td>\n",
       "      <td>Mobile Legends</td>\n",
       "      <td>none</td>\n",
       "      <td>none</td>\n",
       "      <td>2017-07-03</td>\n",
       "      <td>https://www.facebook.com/AkoSiDogie</td>\n",
       "      <td>2017</td>\n",
       "    </tr>\n",
       "    <tr>\n",
       "      <th>154</th>\n",
       "      <td>Dexie Diaz</td>\n",
       "      <td>female</td>\n",
       "      <td>-1</td>\n",
       "      <td>Philippines</td>\n",
       "      <td>6000000</td>\n",
       "      <td>Facebook</td>\n",
       "      <td>APEX Legends</td>\n",
       "      <td>Mobile Legends</td>\n",
       "      <td>Wild Rift</td>\n",
       "      <td>2018-11-14</td>\n",
       "      <td>https://www.facebook.com/DexienessDiaz</td>\n",
       "      <td>2018</td>\n",
       "    </tr>\n",
       "    <tr>\n",
       "      <th>56</th>\n",
       "      <td>Anne B. Mateo</td>\n",
       "      <td>female</td>\n",
       "      <td>28</td>\n",
       "      <td>Philippines</td>\n",
       "      <td>5400000</td>\n",
       "      <td>Facebook</td>\n",
       "      <td>Warzone</td>\n",
       "      <td>Valorant</td>\n",
       "      <td>PUBG</td>\n",
       "      <td>2017-04-26</td>\n",
       "      <td>https://www.facebook.com/annbmateo</td>\n",
       "      <td>2017</td>\n",
       "    </tr>\n",
       "    <tr>\n",
       "      <th>66</th>\n",
       "      <td>GHOST Wrecker</td>\n",
       "      <td>male</td>\n",
       "      <td>-1</td>\n",
       "      <td>Philippines</td>\n",
       "      <td>4792591</td>\n",
       "      <td>Facebook</td>\n",
       "      <td>Mobile Legends</td>\n",
       "      <td>Rules of Survival</td>\n",
       "      <td>none</td>\n",
       "      <td>2018-08-10</td>\n",
       "      <td>https://www.facebook.com/ghostwrecker28</td>\n",
       "      <td>2018</td>\n",
       "    </tr>\n",
       "    <tr>\n",
       "      <th>153</th>\n",
       "      <td>Megan Young</td>\n",
       "      <td>female</td>\n",
       "      <td>-1</td>\n",
       "      <td>unavailable</td>\n",
       "      <td>4200000</td>\n",
       "      <td>Facebook</td>\n",
       "      <td>Among Us</td>\n",
       "      <td>Wild Rift</td>\n",
       "      <td>none</td>\n",
       "      <td>2010-06-21</td>\n",
       "      <td>https://www.facebook.com/MeganYoungPage</td>\n",
       "      <td>2010</td>\n",
       "    </tr>\n",
       "    <tr>\n",
       "      <th>63</th>\n",
       "      <td>Renejay</td>\n",
       "      <td>male</td>\n",
       "      <td>17</td>\n",
       "      <td>Philippines</td>\n",
       "      <td>3600000</td>\n",
       "      <td>Facebook</td>\n",
       "      <td>Mobile Legends</td>\n",
       "      <td>none</td>\n",
       "      <td>none</td>\n",
       "      <td>2019-07-30</td>\n",
       "      <td>https://www.facebook.com/Renejayofficial</td>\n",
       "      <td>2019</td>\n",
       "    </tr>\n",
       "    <tr>\n",
       "      <th>252</th>\n",
       "      <td>RanbooLive</td>\n",
       "      <td>male</td>\n",
       "      <td>-1</td>\n",
       "      <td>United States of America</td>\n",
       "      <td>2804352</td>\n",
       "      <td>Twitch</td>\n",
       "      <td>Minecraft</td>\n",
       "      <td>Slime Rancher</td>\n",
       "      <td>Little Nightmares</td>\n",
       "      <td>2020-09-12</td>\n",
       "      <td>https://www.twitch.tv/ranboolive</td>\n",
       "      <td>2020</td>\n",
       "    </tr>\n",
       "    <tr>\n",
       "      <th>169</th>\n",
       "      <td>Z4pnu</td>\n",
       "      <td>male</td>\n",
       "      <td>-1</td>\n",
       "      <td>unavailable</td>\n",
       "      <td>2673633</td>\n",
       "      <td>Facebook</td>\n",
       "      <td>Mobile Legends</td>\n",
       "      <td>none</td>\n",
       "      <td>none</td>\n",
       "      <td>2017-10-11</td>\n",
       "      <td>https://www.facebook.com/z4pnu/</td>\n",
       "      <td>2017</td>\n",
       "    </tr>\n",
       "    <tr>\n",
       "      <th>65</th>\n",
       "      <td>H2WO</td>\n",
       "      <td>male</td>\n",
       "      <td>20</td>\n",
       "      <td>Philippines</td>\n",
       "      <td>2542181</td>\n",
       "      <td>Facebook</td>\n",
       "      <td>Mobile Legends</td>\n",
       "      <td>none</td>\n",
       "      <td>none</td>\n",
       "      <td>2019-08-12</td>\n",
       "      <td>https://www.facebook.com/H2woOfficial</td>\n",
       "      <td>2019</td>\n",
       "    </tr>\n",
       "    <tr>\n",
       "      <th>152</th>\n",
       "      <td>Kristine Santamena</td>\n",
       "      <td>female</td>\n",
       "      <td>-1</td>\n",
       "      <td>Philippines</td>\n",
       "      <td>2494011</td>\n",
       "      <td>Facebook</td>\n",
       "      <td>Mobile Legends</td>\n",
       "      <td>none</td>\n",
       "      <td>none</td>\n",
       "      <td>2011-05-30</td>\n",
       "      <td>https://www.facebook.com/KristineSantamenaPage</td>\n",
       "      <td>2011</td>\n",
       "    </tr>\n",
       "    <tr>\n",
       "      <th>62</th>\n",
       "      <td>Biancake</td>\n",
       "      <td>female</td>\n",
       "      <td>23</td>\n",
       "      <td>Philippines</td>\n",
       "      <td>2445467</td>\n",
       "      <td>Facebook</td>\n",
       "      <td>DOTA 2</td>\n",
       "      <td>League of Legends</td>\n",
       "      <td>Wildrift</td>\n",
       "      <td>2017-04-23</td>\n",
       "      <td>https://www.facebook.com/BiancakeGaming/?ref=p...</td>\n",
       "      <td>2017</td>\n",
       "    </tr>\n",
       "    <tr>\n",
       "      <th>96</th>\n",
       "      <td>Kristel Millado</td>\n",
       "      <td>female</td>\n",
       "      <td>-1</td>\n",
       "      <td>Philippines</td>\n",
       "      <td>2165205</td>\n",
       "      <td>Facebook</td>\n",
       "      <td>Call of Duty: Mobile</td>\n",
       "      <td>Mobile Legends</td>\n",
       "      <td>Rules of Survival</td>\n",
       "      <td>2019-02-13</td>\n",
       "      <td>https://www.facebook.com/kristelmillado24/</td>\n",
       "      <td>2019</td>\n",
       "    </tr>\n",
       "    <tr>\n",
       "      <th>78</th>\n",
       "      <td>Christine Samson</td>\n",
       "      <td>female</td>\n",
       "      <td>-1</td>\n",
       "      <td>Philippines</td>\n",
       "      <td>2039520</td>\n",
       "      <td>Facebook</td>\n",
       "      <td>Call of Duty: Mobile</td>\n",
       "      <td>none</td>\n",
       "      <td>none</td>\n",
       "      <td>2019-07-24</td>\n",
       "      <td>https://www.facebook.com/christinesamsonn</td>\n",
       "      <td>2019</td>\n",
       "    </tr>\n",
       "    <tr>\n",
       "      <th>64</th>\n",
       "      <td>Yawi Esports</td>\n",
       "      <td>male</td>\n",
       "      <td>-1</td>\n",
       "      <td>Philippines</td>\n",
       "      <td>2000000</td>\n",
       "      <td>Facebook</td>\n",
       "      <td>Mobile Legends</td>\n",
       "      <td>none</td>\n",
       "      <td>none</td>\n",
       "      <td>2020-04-14</td>\n",
       "      <td>https://www.facebook.com/yawiesports</td>\n",
       "      <td>2020</td>\n",
       "    </tr>\n",
       "    <tr>\n",
       "      <th>165</th>\n",
       "      <td>Dota Circle</td>\n",
       "      <td>male</td>\n",
       "      <td>-1</td>\n",
       "      <td>Philippines</td>\n",
       "      <td>1200000</td>\n",
       "      <td>Facebook</td>\n",
       "      <td>Grand Theft Auto V</td>\n",
       "      <td>Mobile Legends</td>\n",
       "      <td>none</td>\n",
       "      <td>2015-12-06</td>\n",
       "      <td>https://www.facebook.com/dotacircle</td>\n",
       "      <td>2015</td>\n",
       "    </tr>\n",
       "    <tr>\n",
       "      <th>164</th>\n",
       "      <td>YuriGaming</td>\n",
       "      <td>female</td>\n",
       "      <td>-1</td>\n",
       "      <td>Philippines</td>\n",
       "      <td>1019676</td>\n",
       "      <td>Facebook</td>\n",
       "      <td>Mobile Legends</td>\n",
       "      <td>none</td>\n",
       "      <td>none</td>\n",
       "      <td>2020-02-15</td>\n",
       "      <td>https://www.facebook.com/YuriGamiing</td>\n",
       "      <td>2020</td>\n",
       "    </tr>\n",
       "    <tr>\n",
       "      <th>155</th>\n",
       "      <td>Sheila Snow</td>\n",
       "      <td>female</td>\n",
       "      <td>-1</td>\n",
       "      <td>Philippines</td>\n",
       "      <td>1007239</td>\n",
       "      <td>Facebook</td>\n",
       "      <td>Valorant</td>\n",
       "      <td>Among Us</td>\n",
       "      <td>Mobile Legends</td>\n",
       "      <td>2014-06-29</td>\n",
       "      <td>https://www.facebook.com/iamSheilaSnow/</td>\n",
       "      <td>2014</td>\n",
       "    </tr>\n",
       "    <tr>\n",
       "      <th>166</th>\n",
       "      <td>Inzaiplays Esports</td>\n",
       "      <td>male</td>\n",
       "      <td>-1</td>\n",
       "      <td>Philippines</td>\n",
       "      <td>1000000</td>\n",
       "      <td>Facebook</td>\n",
       "      <td>Mobile Legends</td>\n",
       "      <td>none</td>\n",
       "      <td>none</td>\n",
       "      <td>2018-01-15</td>\n",
       "      <td>https://www.facebook.com/InzaiplayseSports</td>\n",
       "      <td>2018</td>\n",
       "    </tr>\n",
       "  </tbody>\n",
       "</table>\n",
       "</div>"
      ],
      "text/plain": [
       "              page_name gender_streamer  age                   country  \\\n",
       "69              ChooxTv            male   30               Philippines   \n",
       "61   Alodia Gosiengfiao          female   33               Philippines   \n",
       "167         Akosi Dogie            male   -1               Philippines   \n",
       "154          Dexie Diaz          female   -1               Philippines   \n",
       "56        Anne B. Mateo          female   28               Philippines   \n",
       "66        GHOST Wrecker            male   -1               Philippines   \n",
       "153         Megan Young          female   -1               unavailable   \n",
       "63              Renejay            male   17               Philippines   \n",
       "252          RanbooLive            male   -1  United States of America   \n",
       "169               Z4pnu            male   -1               unavailable   \n",
       "65                 H2WO            male   20               Philippines   \n",
       "152  Kristine Santamena          female   -1               Philippines   \n",
       "62             Biancake          female   23               Philippines   \n",
       "96      Kristel Millado          female   -1               Philippines   \n",
       "78     Christine Samson          female   -1               Philippines   \n",
       "64         Yawi Esports            male   -1               Philippines   \n",
       "165         Dota Circle            male   -1               Philippines   \n",
       "164          YuriGaming          female   -1               Philippines   \n",
       "155         Sheila Snow          female   -1               Philippines   \n",
       "166  Inzaiplays Esports            male   -1               Philippines   \n",
       "\n",
       "     num_followers  platform        streamed_game1     streamed_game2  \\\n",
       "69         9900000  Facebook        Mobile Legends               none   \n",
       "61         7491615  Facebook              Valorant            Warzone   \n",
       "167        6854756  Facebook        Mobile Legends               none   \n",
       "154        6000000  Facebook          APEX Legends     Mobile Legends   \n",
       "56         5400000  Facebook               Warzone           Valorant   \n",
       "66         4792591  Facebook        Mobile Legends  Rules of Survival   \n",
       "153        4200000  Facebook              Among Us          Wild Rift   \n",
       "63         3600000  Facebook        Mobile Legends               none   \n",
       "252        2804352    Twitch             Minecraft      Slime Rancher   \n",
       "169        2673633  Facebook        Mobile Legends               none   \n",
       "65         2542181  Facebook        Mobile Legends               none   \n",
       "152        2494011  Facebook        Mobile Legends               none   \n",
       "62         2445467  Facebook                DOTA 2  League of Legends   \n",
       "96         2165205  Facebook  Call of Duty: Mobile     Mobile Legends   \n",
       "78         2039520  Facebook  Call of Duty: Mobile               none   \n",
       "64         2000000  Facebook        Mobile Legends               none   \n",
       "165        1200000  Facebook    Grand Theft Auto V     Mobile Legends   \n",
       "164        1019676  Facebook        Mobile Legends               none   \n",
       "155        1007239  Facebook              Valorant           Among Us   \n",
       "166        1000000  Facebook        Mobile Legends               none   \n",
       "\n",
       "        streamed_game3 date_started  \\\n",
       "69                none   2017-08-19   \n",
       "61   League of Legends   2018-03-14   \n",
       "167               none   2017-07-03   \n",
       "154          Wild Rift   2018-11-14   \n",
       "56                PUBG   2017-04-26   \n",
       "66                none   2018-08-10   \n",
       "153               none   2010-06-21   \n",
       "63                none   2019-07-30   \n",
       "252  Little Nightmares   2020-09-12   \n",
       "169               none   2017-10-11   \n",
       "65                none   2019-08-12   \n",
       "152               none   2011-05-30   \n",
       "62            Wildrift   2017-04-23   \n",
       "96   Rules of Survival   2019-02-13   \n",
       "78                none   2019-07-24   \n",
       "64                none   2020-04-14   \n",
       "165               none   2015-12-06   \n",
       "164               none   2020-02-15   \n",
       "155     Mobile Legends   2014-06-29   \n",
       "166               none   2018-01-15   \n",
       "\n",
       "                                             page_link  year_started  \n",
       "69                    https://www.facebook.com/CHoOxTV          2017  \n",
       "61   https://www.facebook.com/AlodiaGosiengfiao/?re...          2018  \n",
       "167                https://www.facebook.com/AkoSiDogie          2017  \n",
       "154             https://www.facebook.com/DexienessDiaz          2018  \n",
       "56                  https://www.facebook.com/annbmateo          2017  \n",
       "66             https://www.facebook.com/ghostwrecker28          2018  \n",
       "153            https://www.facebook.com/MeganYoungPage          2010  \n",
       "63            https://www.facebook.com/Renejayofficial          2019  \n",
       "252                   https://www.twitch.tv/ranboolive          2020  \n",
       "169                    https://www.facebook.com/z4pnu/          2017  \n",
       "65               https://www.facebook.com/H2woOfficial          2019  \n",
       "152     https://www.facebook.com/KristineSantamenaPage          2011  \n",
       "62   https://www.facebook.com/BiancakeGaming/?ref=p...          2017  \n",
       "96          https://www.facebook.com/kristelmillado24/          2019  \n",
       "78           https://www.facebook.com/christinesamsonn          2019  \n",
       "64                https://www.facebook.com/yawiesports          2020  \n",
       "165                https://www.facebook.com/dotacircle          2015  \n",
       "164               https://www.facebook.com/YuriGamiing          2020  \n",
       "155            https://www.facebook.com/iamSheilaSnow/          2014  \n",
       "166         https://www.facebook.com/InzaiplayseSports          2018  "
      ]
     },
     "execution_count": 16,
     "metadata": {},
     "output_type": "execute_result"
    }
   ],
   "source": [
    "#Create a table that will get the top 10 streamers with highest followers \n",
    "followers_table = data.nlargest(20, 'num_followers')\n",
    "followers_table"
   ]
  },
  {
   "cell_type": "code",
   "execution_count": 17,
   "id": "bcccf703-216d-4b42-8e8d-0001086d0845",
   "metadata": {},
   "outputs": [
    {
     "data": {
      "image/png": "[encoded data removed]",
      "text/plain": [
       "<Figure size 360x360 with 1 Axes>"
      ]
     },
     "metadata": {
      "needs_background": "light"
     },
     "output_type": "display_data"
    }
   ],
   "source": [
    "followers_plot = sns.catplot(y=\"page_name\", x=\"num_followers\", orient=\"h\", kind=\"bar\", data=followers_table)"
   ]
  },
  {
   "cell_type": "markdown",
   "id": "9647c5e7-e9a9-414f-bdf8-d4d96a0f0052",
   "metadata": {},
   "source": [
    "#### **Observation**"
   ]
  },
  {
   "cell_type": "markdown",
   "id": "44a6a06c-cd60-4d34-9787-e8cb9e48eba2",
   "metadata": {},
   "source": [
    "Since ChooxTv have started streaming since 2017, he has the highest followers from our dataset. "
   ]
  },
  {
   "cell_type": "markdown",
   "id": "5db4130c-2c59-453e-9022-c28ebcac6560",
   "metadata": {},
   "source": [
    "### Top Games played by the streamers in our data set"
   ]
  },
  {
   "cell_type": "code",
   "execution_count": 18,
   "id": "0fb73029-eabd-4a9d-873c-8af7fbf05b46",
   "metadata": {},
   "outputs": [
    {
     "data": {
      "text/html": [
       "<div>\n",
       "<style scoped>\n",
       "    .dataframe tbody tr th:only-of-type {\n",
       "        vertical-align: middle;\n",
       "    }\n",
       "\n",
       "    .dataframe tbody tr th {\n",
       "        vertical-align: top;\n",
       "    }\n",
       "\n",
       "    .dataframe thead th {\n",
       "        text-align: right;\n",
       "    }\n",
       "</style>\n",
       "<table border=\"1\" class=\"dataframe\">\n",
       "  <thead>\n",
       "    <tr style=\"text-align: right;\">\n",
       "      <th></th>\n",
       "      <th>game</th>\n",
       "      <th>counts</th>\n",
       "    </tr>\n",
       "  </thead>\n",
       "  <tbody>\n",
       "    <tr>\n",
       "      <th>0</th>\n",
       "      <td>Valorant</td>\n",
       "      <td>111</td>\n",
       "    </tr>\n",
       "    <tr>\n",
       "      <th>1</th>\n",
       "      <td>Genshin Impact</td>\n",
       "      <td>49</td>\n",
       "    </tr>\n",
       "    <tr>\n",
       "      <th>2</th>\n",
       "      <td>Mobile Legends</td>\n",
       "      <td>26</td>\n",
       "    </tr>\n",
       "    <tr>\n",
       "      <th>3</th>\n",
       "      <td>DOTA 2</td>\n",
       "      <td>11</td>\n",
       "    </tr>\n",
       "    <tr>\n",
       "      <th>4</th>\n",
       "      <td>Call of Duty: Mobile</td>\n",
       "      <td>6</td>\n",
       "    </tr>\n",
       "    <tr>\n",
       "      <th>5</th>\n",
       "      <td>League of Legends</td>\n",
       "      <td>6</td>\n",
       "    </tr>\n",
       "    <tr>\n",
       "      <th>6</th>\n",
       "      <td>Minecraft</td>\n",
       "      <td>6</td>\n",
       "    </tr>\n",
       "    <tr>\n",
       "      <th>7</th>\n",
       "      <td>Grand Theft Auto V</td>\n",
       "      <td>5</td>\n",
       "    </tr>\n",
       "    <tr>\n",
       "      <th>8</th>\n",
       "      <td>APEX Legends</td>\n",
       "      <td>4</td>\n",
       "    </tr>\n",
       "    <tr>\n",
       "      <th>9</th>\n",
       "      <td>PUBG</td>\n",
       "      <td>3</td>\n",
       "    </tr>\n",
       "  </tbody>\n",
       "</table>\n",
       "</div>"
      ],
      "text/plain": [
       "                   game  counts\n",
       "0              Valorant     111\n",
       "1        Genshin Impact      49\n",
       "2        Mobile Legends      26\n",
       "3                DOTA 2      11\n",
       "4  Call of Duty: Mobile       6\n",
       "5     League of Legends       6\n",
       "6             Minecraft       6\n",
       "7    Grand Theft Auto V       5\n",
       "8          APEX Legends       4\n",
       "9                  PUBG       3"
      ]
     },
     "execution_count": 18,
     "metadata": {},
     "output_type": "execute_result"
    }
   ],
   "source": [
    "#Create a table that will categorize each streamer in the dataset according to the top game they are playing\n",
    "games1_table = data['streamed_game1'].value_counts().rename_axis('game').reset_index(name='counts')\n",
    "games1_table=games1_table.nlargest(10, 'counts')\n",
    "games1_table"
   ]
  },
  {
   "cell_type": "code",
   "execution_count": 19,
   "id": "90b3bbbe-231e-456d-99ae-7159f6fbf92a",
   "metadata": {},
   "outputs": [
    {
     "data": {
      "image/png": "[encoded data removed]",
      "text/plain": [
       "<Figure size 1440x720 with 1 Axes>"
      ]
     },
     "metadata": {},
     "output_type": "display_data"
    },
    {
     "data": {
      "image/png": "[encoded data removed]",
      "text/plain": [
       "<Figure size 360x360 with 1 Axes>"
      ]
     },
     "metadata": {
      "needs_background": "light"
     },
     "output_type": "display_data"
    }
   ],
   "source": [
    "\n",
    "#Create a pie and bar graph to graphically represent the table that we got.\n",
    "fig = plt.figure(figsize=(20, 10))\n",
    "\n",
    "\n",
    "games1_pie = games1_table['counts'].plot( kind='pie', labels = ['Valorant', 'Genshin Impact','Mobile Legends',\n",
    "                                                                   'DOTA 2','Minecraft','League of Legends',\n",
    "                                                                   'Call of Duty: Mobile','Grand Theft Auto V','APEX Legends', 'PUBG']\n",
    "                                     ,autopct='%1.2f%%')\n",
    "pie.set_title('Pie graph ', fontsize=15)\n",
    "fig.set_facecolor('white')\n",
    "\n",
    "games1_plot = sns.catplot(y=\"game\", x=\"counts\", orient=\"h\", kind=\"bar\", data=games1_table)"
   ]
  },
  {
   "cell_type": "markdown",
   "id": "49538498-28aa-47e1-b505-670c5b938908",
   "metadata": {},
   "source": [
    "#### **Observation**"
   ]
  },
  {
   "cell_type": "markdown",
   "id": "f8b884ef-379a-4504-b49c-fbfb7c295ec0",
   "metadata": {},
   "source": [
    "We can see that half of the streamers prefer Valorant as a main game to stream because the release of the game was during the pandemic and a lot of were waiting for its release so the streamers took advantage of it. Genshin Impact was also released during quarantine but its style of play do"
   ]
  },
  {
   "cell_type": "code",
   "execution_count": 20,
   "id": "13bfc881-6090-46b0-968e-2ed3d2f498e3",
   "metadata": {},
   "outputs": [
    {
     "data": {
      "text/html": [
       "<div>\n",
       "<style scoped>\n",
       "    .dataframe tbody tr th:only-of-type {\n",
       "        vertical-align: middle;\n",
       "    }\n",
       "\n",
       "    .dataframe tbody tr th {\n",
       "        vertical-align: top;\n",
       "    }\n",
       "\n",
       "    .dataframe thead th {\n",
       "        text-align: right;\n",
       "    }\n",
       "</style>\n",
       "<table border=\"1\" class=\"dataframe\">\n",
       "  <thead>\n",
       "    <tr style=\"text-align: right;\">\n",
       "      <th></th>\n",
       "      <th>game</th>\n",
       "      <th>counts</th>\n",
       "    </tr>\n",
       "  </thead>\n",
       "  <tbody>\n",
       "    <tr>\n",
       "      <th>0</th>\n",
       "      <td>none</td>\n",
       "      <td>92</td>\n",
       "    </tr>\n",
       "    <tr>\n",
       "      <th>1</th>\n",
       "      <td>League of Legends</td>\n",
       "      <td>17</td>\n",
       "    </tr>\n",
       "    <tr>\n",
       "      <th>2</th>\n",
       "      <td>Mobile Legends</td>\n",
       "      <td>15</td>\n",
       "    </tr>\n",
       "    <tr>\n",
       "      <th>3</th>\n",
       "      <td>Valorant</td>\n",
       "      <td>15</td>\n",
       "    </tr>\n",
       "    <tr>\n",
       "      <th>4</th>\n",
       "      <td>DOTA 2</td>\n",
       "      <td>9</td>\n",
       "    </tr>\n",
       "    <tr>\n",
       "      <th>5</th>\n",
       "      <td>Genshin Impact</td>\n",
       "      <td>8</td>\n",
       "    </tr>\n",
       "    <tr>\n",
       "      <th>6</th>\n",
       "      <td>PUBG</td>\n",
       "      <td>8</td>\n",
       "    </tr>\n",
       "    <tr>\n",
       "      <th>7</th>\n",
       "      <td>Phasmophobia</td>\n",
       "      <td>6</td>\n",
       "    </tr>\n",
       "    <tr>\n",
       "      <th>8</th>\n",
       "      <td>APEX Legends</td>\n",
       "      <td>6</td>\n",
       "    </tr>\n",
       "    <tr>\n",
       "      <th>9</th>\n",
       "      <td>Call of Duty: Mobile</td>\n",
       "      <td>5</td>\n",
       "    </tr>\n",
       "  </tbody>\n",
       "</table>\n",
       "</div>"
      ],
      "text/plain": [
       "                   game  counts\n",
       "0                  none      92\n",
       "1     League of Legends      17\n",
       "2        Mobile Legends      15\n",
       "3              Valorant      15\n",
       "4                DOTA 2       9\n",
       "5        Genshin Impact       8\n",
       "6                  PUBG       8\n",
       "7          Phasmophobia       6\n",
       "8          APEX Legends       6\n",
       "9  Call of Duty: Mobile       5"
      ]
     },
     "execution_count": 20,
     "metadata": {},
     "output_type": "execute_result"
    }
   ],
   "source": [
    "#Create a table that will categorize each streamer in the dataset according to the second top game they are playing\n",
    "games2_table = data['streamed_game2'].value_counts().rename_axis('game').reset_index(name='counts')\n",
    "games2_table =games2_table.nlargest(10, 'counts')\n",
    "games2_table"
   ]
  },
  {
   "cell_type": "code",
   "execution_count": 21,
   "id": "0bb77921-798e-4c94-9c29-b2de4968be7a",
   "metadata": {},
   "outputs": [
    {
     "data": {
      "image/png": "[encoded data removed]",
      "text/plain": [
       "<Figure size 1440x720 with 1 Axes>"
      ]
     },
     "metadata": {},
     "output_type": "display_data"
    },
    {
     "data": {
      "image/png": "[encoded data removed]",
      "text/plain": [
       "<Figure size 360x360 with 1 Axes>"
      ]
     },
     "metadata": {
      "needs_background": "light"
     },
     "output_type": "display_data"
    }
   ],
   "source": [
    "#Create a pie and bar graph to graphically represent the table that we got.\n",
    "\n",
    "fig = plt.figure(figsize=(20, 10))\n",
    "\n",
    "\n",
    "games2_pie = games2_table['counts'].plot( kind='pie', labels = ['none', 'League of Legends','Valorant',\n",
    "                                                                   'Mobile Legends','DOTA 2','PUBG',\n",
    "                                                                   'Genshin Impact','APEX Legends','Phasmophobia','Fortnite']\n",
    "                                     ,autopct='%1.2f%%')\n",
    "pie.set_title('Pie graph ', fontsize=15)\n",
    "fig.set_facecolor('white')\n",
    "\n",
    "games2_plot = sns.catplot(y=\"game\", x=\"counts\", orient=\"h\", kind=\"bar\", data=games2_table)"
   ]
  },
  {
   "cell_type": "markdown",
   "id": "c58929af-054e-46d7-9d2a-3e6dfc0d71e3",
   "metadata": {},
   "source": [
    "#### **Observation**"
   ]
  },
  {
   "cell_type": "markdown",
   "id": "74d0e767-3b24-4410-9f86-c0a59586cbad",
   "metadata": {},
   "source": [
    "It can be seen from the graph that Half of the streamers only have one game that they stream. This is mabe because they are new in the streaming community and they are just starting to familiarize themselves as to how it works."
   ]
  },
  {
   "cell_type": "code",
   "execution_count": 22,
   "id": "db66bff8-dd05-4e50-b08b-07536fc2e6e1",
   "metadata": {},
   "outputs": [
    {
     "data": {
      "text/html": [
       "<div>\n",
       "<style scoped>\n",
       "    .dataframe tbody tr th:only-of-type {\n",
       "        vertical-align: middle;\n",
       "    }\n",
       "\n",
       "    .dataframe tbody tr th {\n",
       "        vertical-align: top;\n",
       "    }\n",
       "\n",
       "    .dataframe thead th {\n",
       "        text-align: right;\n",
       "    }\n",
       "</style>\n",
       "<table border=\"1\" class=\"dataframe\">\n",
       "  <thead>\n",
       "    <tr style=\"text-align: right;\">\n",
       "      <th></th>\n",
       "      <th>game</th>\n",
       "      <th>counts</th>\n",
       "    </tr>\n",
       "  </thead>\n",
       "  <tbody>\n",
       "    <tr>\n",
       "      <th>0</th>\n",
       "      <td>none</td>\n",
       "      <td>145</td>\n",
       "    </tr>\n",
       "    <tr>\n",
       "      <th>1</th>\n",
       "      <td>League of Legends</td>\n",
       "      <td>9</td>\n",
       "    </tr>\n",
       "    <tr>\n",
       "      <th>2</th>\n",
       "      <td>Valorant</td>\n",
       "      <td>6</td>\n",
       "    </tr>\n",
       "    <tr>\n",
       "      <th>3</th>\n",
       "      <td>Mobile Legends</td>\n",
       "      <td>6</td>\n",
       "    </tr>\n",
       "    <tr>\n",
       "      <th>4</th>\n",
       "      <td>PUBG</td>\n",
       "      <td>5</td>\n",
       "    </tr>\n",
       "    <tr>\n",
       "      <th>5</th>\n",
       "      <td>Fortnite</td>\n",
       "      <td>4</td>\n",
       "    </tr>\n",
       "    <tr>\n",
       "      <th>6</th>\n",
       "      <td>Among Us</td>\n",
       "      <td>4</td>\n",
       "    </tr>\n",
       "    <tr>\n",
       "      <th>7</th>\n",
       "      <td>Call Of Duty: Warzone</td>\n",
       "      <td>4</td>\n",
       "    </tr>\n",
       "    <tr>\n",
       "      <th>8</th>\n",
       "      <td>CS:GO</td>\n",
       "      <td>4</td>\n",
       "    </tr>\n",
       "    <tr>\n",
       "      <th>9</th>\n",
       "      <td>APEX Legends</td>\n",
       "      <td>4</td>\n",
       "    </tr>\n",
       "  </tbody>\n",
       "</table>\n",
       "</div>"
      ],
      "text/plain": [
       "                    game  counts\n",
       "0                   none     145\n",
       "1      League of Legends       9\n",
       "2               Valorant       6\n",
       "3         Mobile Legends       6\n",
       "4                   PUBG       5\n",
       "5               Fortnite       4\n",
       "6               Among Us       4\n",
       "7  Call Of Duty: Warzone       4\n",
       "8                  CS:GO       4\n",
       "9           APEX Legends       4"
      ]
     },
     "execution_count": 22,
     "metadata": {},
     "output_type": "execute_result"
    }
   ],
   "source": [
    "#Create a table that will categorize each streamer in the dataset according to the third top game they are playing\n",
    "games3_table = data['streamed_game3'].value_counts().rename_axis('game').reset_index(name='counts')\n",
    "games3_table = games3_table.nlargest(10, 'counts')\n",
    "games3_table"
   ]
  },
  {
   "cell_type": "code",
   "execution_count": 23,
   "id": "aed8b4e5-ec7d-4d1c-8e7c-7bb65e0ac8a8",
   "metadata": {},
   "outputs": [
    {
     "data": {
      "image/png": "[encoded data removed]",
      "text/plain": [
       "<Figure size 1440x720 with 1 Axes>"
      ]
     },
     "metadata": {},
     "output_type": "display_data"
    },
    {
     "data": {
      "image/png": "[encoded data removed]",
      "text/plain": [
       "<Figure size 360x360 with 1 Axes>"
      ]
     },
     "metadata": {
      "needs_background": "light"
     },
     "output_type": "display_data"
    }
   ],
   "source": [
    "#Create a pie and bar graph to graphically represent the table that we got.\n",
    "\n",
    "fig = plt.figure(figsize=(20, 10))\n",
    "\n",
    "games3_pie = games3_table['counts'].plot( kind='pie', labels = ['none', 'League of Legends','Mobile Legends','Valorant','PUBG','Fortnite',\n",
    "                                                                'Among Us','Call Of Duty: Warzone','APEX Legends','CS:GO']\n",
    "                                                                    ,autopct='%1.2f%%')\n",
    "pie.set_title('Pie graph ', fontsize=15)\n",
    "fig.set_facecolor('white')\n",
    "\n",
    "games3_plot = sns.catplot(y=\"game\", x=\"counts\", orient=\"h\", kind=\"bar\", data=games3_table)"
   ]
  },
  {
   "cell_type": "markdown",
   "id": "f6e34d5f-0707-48ae-a615-8162e620b9bb",
   "metadata": {},
   "source": [
    "#### **Observation**"
   ]
  },
  {
   "cell_type": "markdown",
   "id": "54b6e089-b04f-462d-bf1e-f8b067d1139e",
   "metadata": {},
   "source": [
    "Since most of our streamers started during the pandemic, they would usually have one game to stream. The ones that have a third game are the long time streamers that started to stream more during the pandemic."
   ]
  },
  {
   "cell_type": "markdown",
   "id": "aa27c21c-ef04-4938-a7a2-88afd9f4df1b",
   "metadata": {},
   "source": [
    "### Year started"
   ]
  },
  {
   "cell_type": "code",
   "execution_count": 24,
   "id": "b101fc46-1da6-4a32-90e5-2d8c73997068",
   "metadata": {},
   "outputs": [
    {
     "data": {
      "text/html": [
       "<div>\n",
       "<style scoped>\n",
       "    .dataframe tbody tr th:only-of-type {\n",
       "        vertical-align: middle;\n",
       "    }\n",
       "\n",
       "    .dataframe tbody tr th {\n",
       "        vertical-align: top;\n",
       "    }\n",
       "\n",
       "    .dataframe thead th {\n",
       "        text-align: right;\n",
       "    }\n",
       "</style>\n",
       "<table border=\"1\" class=\"dataframe\">\n",
       "  <thead>\n",
       "    <tr style=\"text-align: right;\">\n",
       "      <th></th>\n",
       "      <th>year</th>\n",
       "      <th>counts</th>\n",
       "    </tr>\n",
       "  </thead>\n",
       "  <tbody>\n",
       "    <tr>\n",
       "      <th>8</th>\n",
       "      <td>2010</td>\n",
       "      <td>1</td>\n",
       "    </tr>\n",
       "    <tr>\n",
       "      <th>9</th>\n",
       "      <td>2011</td>\n",
       "      <td>1</td>\n",
       "    </tr>\n",
       "    <tr>\n",
       "      <th>10</th>\n",
       "      <td>2012</td>\n",
       "      <td>1</td>\n",
       "    </tr>\n",
       "    <tr>\n",
       "      <th>11</th>\n",
       "      <td>2013</td>\n",
       "      <td>1</td>\n",
       "    </tr>\n",
       "    <tr>\n",
       "      <th>6</th>\n",
       "      <td>2014</td>\n",
       "      <td>10</td>\n",
       "    </tr>\n",
       "    <tr>\n",
       "      <th>7</th>\n",
       "      <td>2015</td>\n",
       "      <td>9</td>\n",
       "    </tr>\n",
       "    <tr>\n",
       "      <th>5</th>\n",
       "      <td>2016</td>\n",
       "      <td>11</td>\n",
       "    </tr>\n",
       "    <tr>\n",
       "      <th>4</th>\n",
       "      <td>2017</td>\n",
       "      <td>18</td>\n",
       "    </tr>\n",
       "    <tr>\n",
       "      <th>3</th>\n",
       "      <td>2018</td>\n",
       "      <td>19</td>\n",
       "    </tr>\n",
       "    <tr>\n",
       "      <th>2</th>\n",
       "      <td>2019</td>\n",
       "      <td>35</td>\n",
       "    </tr>\n",
       "    <tr>\n",
       "      <th>0</th>\n",
       "      <td>2020</td>\n",
       "      <td>89</td>\n",
       "    </tr>\n",
       "    <tr>\n",
       "      <th>1</th>\n",
       "      <td>2021</td>\n",
       "      <td>58</td>\n",
       "    </tr>\n",
       "  </tbody>\n",
       "</table>\n",
       "</div>"
      ],
      "text/plain": [
       "    year  counts\n",
       "8   2010       1\n",
       "9   2011       1\n",
       "10  2012       1\n",
       "11  2013       1\n",
       "6   2014      10\n",
       "7   2015       9\n",
       "5   2016      11\n",
       "4   2017      18\n",
       "3   2018      19\n",
       "2   2019      35\n",
       "0   2020      89\n",
       "1   2021      58"
      ]
     },
     "execution_count": 24,
     "metadata": {},
     "output_type": "execute_result"
    }
   ],
   "source": [
    "#Create a table that will categorize each streamer in the dataset according to the year they started\n",
    "year_table = data['year_started'].value_counts().rename_axis('year').reset_index(name='counts')\n",
    "year_table=year_table.sort_values(by=['year'])\n",
    "year_table"
   ]
  },
  {
   "cell_type": "code",
   "execution_count": 25,
   "id": "14bab67a-b207-4a4d-a22f-990f77d5c6cd",
   "metadata": {},
   "outputs": [
    {
     "data": {
      "text/plain": [
       "[Text(0, 0, '2010'),\n",
       " Text(1, 0, '2011'),\n",
       " Text(2, 0, '2012'),\n",
       " Text(3, 0, '2013'),\n",
       " Text(4, 0, '2014'),\n",
       " Text(5, 0, '2015'),\n",
       " Text(6, 0, '2016'),\n",
       " Text(7, 0, '2017'),\n",
       " Text(8, 0, '2018'),\n",
       " Text(9, 0, '2019'),\n",
       " Text(10, 0, '2020'),\n",
       " Text(11, 0, '2021')]"
      ]
     },
     "execution_count": 25,
     "metadata": {},
     "output_type": "execute_result"
    },
    {
     "data": {
      "image/png": "[encoded data removed]",
      "text/plain": [
       "<Figure size 1440x360 with 2 Axes>"
      ]
     },
     "metadata": {
      "needs_background": "light"
     },
     "output_type": "display_data"
    }
   ],
   "source": [
    "fig = plt.figure(figsize=(20, 5))\n",
    "ax = fig.add_gridspec(1,2)\n",
    "pie = fig.add_subplot(ax[0, 0])\n",
    "bar = fig.add_subplot(ax[0, 1])\n",
    "\n",
    "year_pie = year_table['counts'].plot(ax=pie, kind='pie', labels = ['2010', '2011','2012','2013','2014','2015','2016','2017','2018','2019','2020','2021']\n",
    "                                     ,autopct='%1.2f%%',frame = True)\n",
    "pie.set_title('Pie graph of the gender of streamers', fontsize=15)\n",
    "\n",
    "year_bar = year_table['counts'].plot(ax=bar, kind='bar', width=0.5, color=\"green\" )\n",
    "bar.set_title('Bar graph of the year streamers started', fontsize=15)\n",
    "bar.set_xticklabels(['2010', '2011','2012','2013','2014','2015','2016','2017','2018','2019','2020','2021'], rotation=0, fontsize=12)"
   ]
  },
  {
   "cell_type": "markdown",
   "id": "9d6301ca-dc3e-4282-a1db-409ea7a02204",
   "metadata": {},
   "source": [
    "#### **Observation**"
   ]
  },
  {
   "cell_type": "markdown",
   "id": "072050e0-914a-48a2-9764-580c139697a5",
   "metadata": {},
   "source": [
    "Since our dataset is about the growth of streamers during the pandemic, the years 2020 and 2021 occupy more than half the percentage of our dataset. The ones that started before the pandemic are the ones who stopped streaming for a while but then resurfaced when the pandemic started. It is also noticable how the year 2020 has more streamers compared to year 2021 , this is because the year has not yet ended thu, not counting the streamers who will star late this year."
   ]
  },
  {
   "cell_type": "markdown",
   "id": "62116873-e1c7-470e-aee8-cb536b4eac22",
   "metadata": {},
   "source": [
    "### Age and Platform Used"
   ]
  },
  {
   "cell_type": "code",
   "execution_count": 26,
   "id": "a37d939f-fbd7-43ef-9574-3b0fca62e507",
   "metadata": {},
   "outputs": [
    {
     "data": {
      "text/plain": [
       "<seaborn.axisgrid.FacetGrid at 0x150b0ff7cd0>"
      ]
     },
     "execution_count": 26,
     "metadata": {},
     "output_type": "execute_result"
    },
    {
     "data": {
      "image/png": "[encoded data removed]",
      "text/plain": [
       "<Figure size 442.625x360 with 1 Axes>"
      ]
     },
     "metadata": {
      "needs_background": "light"
     },
     "output_type": "display_data"
    }
   ],
   "source": [
    "age_plat_plot = sns.catplot(x=\"age\", \n",
    "                                   kind=\"count\", \n",
    "                                   hue=\"platform\", \n",
    "                                   palette={\"Facebook\": \"blue\", \"Twitch\": \"violet\"}, \n",
    "                                   data=data)\n",
    "age_plat_plot.set(ylim=(0,10))"
   ]
  },
  {
   "cell_type": "markdown",
   "id": "4145ff33-7d86-4350-ad04-341cc0b5ef48",
   "metadata": {},
   "source": [
    "#### **Observation**"
   ]
  },
  {
   "cell_type": "markdown",
   "id": "eb9f7ce9-5462-4230-88cc-97171cdedbd3",
   "metadata": {},
   "source": [
    "Twitch streamers tend to not share their age in their channel. From ages 19-22 from facebook are more comfortable in sharing their age with 22 being the highest"
   ]
  },
  {
   "cell_type": "markdown",
   "id": "4a88ef2f-081c-4b24-830a-a4197ff33f64",
   "metadata": {},
   "source": [
    "### Gender and Platform Used"
   ]
  },
  {
   "cell_type": "code",
   "execution_count": 27,
   "id": "a557ac67-d520-4db1-b02f-8a8bbcf45fe0",
   "metadata": {},
   "outputs": [
    {
     "data": {
      "image/png": "[encoded data removed]",
      "text/plain": [
       "<Figure size 442.625x360 with 1 Axes>"
      ]
     },
     "metadata": {
      "needs_background": "light"
     },
     "output_type": "display_data"
    }
   ],
   "source": [
    "gender_plat_plot = sns.catplot(x=\"gender_streamer\", \n",
    "                                   kind=\"count\", \n",
    "                                   hue=\"platform\", \n",
    "                                   palette={\"Facebook\": \"blue\", \"Twitch\": \"violet\"}, \n",
    "                                   data=data)"
   ]
  },
  {
   "cell_type": "markdown",
   "id": "aec95d30-caa5-4843-8c4a-643b97ef8364",
   "metadata": {},
   "source": [
    "#### **Observation**"
   ]
  },
  {
   "cell_type": "markdown",
   "id": "c7e10c56-c045-4475-af6d-c62e477745e8",
   "metadata": {},
   "source": [
    "Both male and female prefer facebook than twitch. We take note that the majority of streamers in the dataset are from the Philippines so they favor facebook."
   ]
  },
  {
   "cell_type": "markdown",
   "id": "3fc130df-c752-44af-acb5-190fb20f3993",
   "metadata": {},
   "source": [
    "### Gender and games played"
   ]
  },
  {
   "cell_type": "code",
   "execution_count": 28,
   "id": "07f732c8-6dd5-49a1-aea1-d456123b0eb9",
   "metadata": {},
   "outputs": [
    {
     "data": {
      "text/html": [
       "<div>\n",
       "<style scoped>\n",
       "    .dataframe tbody tr th:only-of-type {\n",
       "        vertical-align: middle;\n",
       "    }\n",
       "\n",
       "    .dataframe tbody tr th {\n",
       "        vertical-align: top;\n",
       "    }\n",
       "\n",
       "    .dataframe thead th {\n",
       "        text-align: right;\n",
       "    }\n",
       "</style>\n",
       "<table border=\"1\" class=\"dataframe\">\n",
       "  <thead>\n",
       "    <tr style=\"text-align: right;\">\n",
       "      <th></th>\n",
       "      <th>streamed_game1</th>\n",
       "      <th>gender_streamer</th>\n",
       "      <th>count</th>\n",
       "    </tr>\n",
       "  </thead>\n",
       "  <tbody>\n",
       "    <tr>\n",
       "      <th>0</th>\n",
       "      <td>APEX Legends</td>\n",
       "      <td>female</td>\n",
       "      <td>1</td>\n",
       "    </tr>\n",
       "    <tr>\n",
       "      <th>1</th>\n",
       "      <td>APEX Legends</td>\n",
       "      <td>male</td>\n",
       "      <td>3</td>\n",
       "    </tr>\n",
       "    <tr>\n",
       "      <th>4</th>\n",
       "      <td>Call of Duty: Mobile</td>\n",
       "      <td>female</td>\n",
       "      <td>4</td>\n",
       "    </tr>\n",
       "    <tr>\n",
       "      <th>5</th>\n",
       "      <td>Call of Duty: Mobile</td>\n",
       "      <td>male</td>\n",
       "      <td>2</td>\n",
       "    </tr>\n",
       "    <tr>\n",
       "      <th>8</th>\n",
       "      <td>DOTA 2</td>\n",
       "      <td>female</td>\n",
       "      <td>4</td>\n",
       "    </tr>\n",
       "    <tr>\n",
       "      <th>9</th>\n",
       "      <td>DOTA 2</td>\n",
       "      <td>male</td>\n",
       "      <td>7</td>\n",
       "    </tr>\n",
       "    <tr>\n",
       "      <th>14</th>\n",
       "      <td>Genshin Impact</td>\n",
       "      <td>female</td>\n",
       "      <td>13</td>\n",
       "    </tr>\n",
       "    <tr>\n",
       "      <th>15</th>\n",
       "      <td>Genshin Impact</td>\n",
       "      <td>male</td>\n",
       "      <td>36</td>\n",
       "    </tr>\n",
       "    <tr>\n",
       "      <th>17</th>\n",
       "      <td>Grand Theft Auto V</td>\n",
       "      <td>female</td>\n",
       "      <td>3</td>\n",
       "    </tr>\n",
       "    <tr>\n",
       "      <th>18</th>\n",
       "      <td>Grand Theft Auto V</td>\n",
       "      <td>male</td>\n",
       "      <td>2</td>\n",
       "    </tr>\n",
       "    <tr>\n",
       "      <th>21</th>\n",
       "      <td>League of Legends</td>\n",
       "      <td>female</td>\n",
       "      <td>1</td>\n",
       "    </tr>\n",
       "    <tr>\n",
       "      <th>22</th>\n",
       "      <td>League of Legends</td>\n",
       "      <td>male</td>\n",
       "      <td>5</td>\n",
       "    </tr>\n",
       "    <tr>\n",
       "      <th>24</th>\n",
       "      <td>Minecraft</td>\n",
       "      <td>female</td>\n",
       "      <td>3</td>\n",
       "    </tr>\n",
       "    <tr>\n",
       "      <th>25</th>\n",
       "      <td>Minecraft</td>\n",
       "      <td>male</td>\n",
       "      <td>3</td>\n",
       "    </tr>\n",
       "    <tr>\n",
       "      <th>26</th>\n",
       "      <td>Mobile Legends</td>\n",
       "      <td>female</td>\n",
       "      <td>6</td>\n",
       "    </tr>\n",
       "    <tr>\n",
       "      <th>27</th>\n",
       "      <td>Mobile Legends</td>\n",
       "      <td>male</td>\n",
       "      <td>20</td>\n",
       "    </tr>\n",
       "    <tr>\n",
       "      <th>30</th>\n",
       "      <td>PUBG</td>\n",
       "      <td>female</td>\n",
       "      <td>3</td>\n",
       "    </tr>\n",
       "    <tr>\n",
       "      <th>39</th>\n",
       "      <td>Valorant</td>\n",
       "      <td>female</td>\n",
       "      <td>33</td>\n",
       "    </tr>\n",
       "    <tr>\n",
       "      <th>40</th>\n",
       "      <td>Valorant</td>\n",
       "      <td>male</td>\n",
       "      <td>78</td>\n",
       "    </tr>\n",
       "  </tbody>\n",
       "</table>\n",
       "</div>"
      ],
      "text/plain": [
       "          streamed_game1 gender_streamer  count\n",
       "0           APEX Legends          female      1\n",
       "1           APEX Legends            male      3\n",
       "4   Call of Duty: Mobile          female      4\n",
       "5   Call of Duty: Mobile            male      2\n",
       "8                 DOTA 2          female      4\n",
       "9                 DOTA 2            male      7\n",
       "14        Genshin Impact          female     13\n",
       "15        Genshin Impact            male     36\n",
       "17    Grand Theft Auto V          female      3\n",
       "18    Grand Theft Auto V            male      2\n",
       "21     League of Legends          female      1\n",
       "22     League of Legends            male      5\n",
       "24             Minecraft          female      3\n",
       "25             Minecraft            male      3\n",
       "26        Mobile Legends          female      6\n",
       "27        Mobile Legends            male     20\n",
       "30                  PUBG          female      3\n",
       "39              Valorant          female     33\n",
       "40              Valorant            male     78"
      ]
     },
     "execution_count": 28,
     "metadata": {},
     "output_type": "execute_result"
    }
   ],
   "source": [
    "addgender1 = data.groupby(['streamed_game1','gender_streamer']).size().reset_index(name='count')\n",
    "final1 = addgender1\n",
    "top1_final10 = final1[final1.streamed_game1.isin(games1_table['game'])]\n",
    "top1_final10"
   ]
  },
  {
   "cell_type": "code",
   "execution_count": 29,
   "id": "8374573a-86d2-4aa2-9213-31c5bde0d528",
   "metadata": {},
   "outputs": [
    {
     "data": {
      "image/png": "[encoded data removed]",
      "text/plain": [
       "<Figure size 1440x468 with 1 Axes>"
      ]
     },
     "metadata": {
      "needs_background": "light"
     },
     "output_type": "display_data"
    }
   ],
   "source": [
    "gender_plat_plot = sns.catplot(x=\"streamed_game1\", y=\"count\",\n",
    "                                   kind=\"bar\", \n",
    "                                   hue=\"gender_streamer\", \n",
    "                                   palette={\"male\": \"green\", \"female\": \"orange\"}, \n",
    "                                   data=top1_final10)\n",
    "gender_plat_plot.fig.set_size_inches(20, 6.5)"
   ]
  },
  {
   "cell_type": "markdown",
   "id": "29079da3-083c-473f-9f38-fb821d6c39c9",
   "metadata": {},
   "source": [
    "#### **Observation**"
   ]
  },
  {
   "cell_type": "markdown",
   "id": "73caa6ac-bb6e-4809-a4e7-bebbbb89d740",
   "metadata": {},
   "source": [
    "Valorant has the most players both male and female. Both Valorant and Genshin Impact has many streamers since it was released during the pandemic and as mentioned earlier, Valorant is one of the anticipated game release."
   ]
  },
  {
   "cell_type": "code",
   "execution_count": 30,
   "id": "7bae6cd9-37a4-42cc-8d47-7e44ddff4ec7",
   "metadata": {},
   "outputs": [
    {
     "data": {
      "text/html": [
       "<div>\n",
       "<style scoped>\n",
       "    .dataframe tbody tr th:only-of-type {\n",
       "        vertical-align: middle;\n",
       "    }\n",
       "\n",
       "    .dataframe tbody tr th {\n",
       "        vertical-align: top;\n",
       "    }\n",
       "\n",
       "    .dataframe thead th {\n",
       "        text-align: right;\n",
       "    }\n",
       "</style>\n",
       "<table border=\"1\" class=\"dataframe\">\n",
       "  <thead>\n",
       "    <tr style=\"text-align: right;\">\n",
       "      <th></th>\n",
       "      <th>streamed_game2</th>\n",
       "      <th>gender_streamer</th>\n",
       "      <th>count</th>\n",
       "    </tr>\n",
       "  </thead>\n",
       "  <tbody>\n",
       "    <tr>\n",
       "      <th>0</th>\n",
       "      <td>APEX Legends</td>\n",
       "      <td>female</td>\n",
       "      <td>3</td>\n",
       "    </tr>\n",
       "    <tr>\n",
       "      <th>1</th>\n",
       "      <td>APEX Legends</td>\n",
       "      <td>male</td>\n",
       "      <td>3</td>\n",
       "    </tr>\n",
       "    <tr>\n",
       "      <th>9</th>\n",
       "      <td>Call of Duty: Mobile</td>\n",
       "      <td>female</td>\n",
       "      <td>1</td>\n",
       "    </tr>\n",
       "    <tr>\n",
       "      <th>10</th>\n",
       "      <td>Call of Duty: Mobile</td>\n",
       "      <td>male</td>\n",
       "      <td>4</td>\n",
       "    </tr>\n",
       "    <tr>\n",
       "      <th>15</th>\n",
       "      <td>DOTA 2</td>\n",
       "      <td>female</td>\n",
       "      <td>4</td>\n",
       "    </tr>\n",
       "    <tr>\n",
       "      <th>16</th>\n",
       "      <td>DOTA 2</td>\n",
       "      <td>male</td>\n",
       "      <td>5</td>\n",
       "    </tr>\n",
       "    <tr>\n",
       "      <th>26</th>\n",
       "      <td>Genshin Impact</td>\n",
       "      <td>female</td>\n",
       "      <td>2</td>\n",
       "    </tr>\n",
       "    <tr>\n",
       "      <th>27</th>\n",
       "      <td>Genshin Impact</td>\n",
       "      <td>male</td>\n",
       "      <td>6</td>\n",
       "    </tr>\n",
       "    <tr>\n",
       "      <th>32</th>\n",
       "      <td>League of Legends</td>\n",
       "      <td>female</td>\n",
       "      <td>10</td>\n",
       "    </tr>\n",
       "    <tr>\n",
       "      <th>33</th>\n",
       "      <td>League of Legends</td>\n",
       "      <td>male</td>\n",
       "      <td>7</td>\n",
       "    </tr>\n",
       "    <tr>\n",
       "      <th>38</th>\n",
       "      <td>Mobile Legends</td>\n",
       "      <td>female</td>\n",
       "      <td>6</td>\n",
       "    </tr>\n",
       "    <tr>\n",
       "      <th>39</th>\n",
       "      <td>Mobile Legends</td>\n",
       "      <td>male</td>\n",
       "      <td>9</td>\n",
       "    </tr>\n",
       "    <tr>\n",
       "      <th>45</th>\n",
       "      <td>PUBG</td>\n",
       "      <td>female</td>\n",
       "      <td>2</td>\n",
       "    </tr>\n",
       "    <tr>\n",
       "      <th>46</th>\n",
       "      <td>PUBG</td>\n",
       "      <td>male</td>\n",
       "      <td>6</td>\n",
       "    </tr>\n",
       "    <tr>\n",
       "      <th>53</th>\n",
       "      <td>Phasmophobia</td>\n",
       "      <td>female</td>\n",
       "      <td>1</td>\n",
       "    </tr>\n",
       "    <tr>\n",
       "      <th>54</th>\n",
       "      <td>Phasmophobia</td>\n",
       "      <td>male</td>\n",
       "      <td>5</td>\n",
       "    </tr>\n",
       "    <tr>\n",
       "      <th>69</th>\n",
       "      <td>Valorant</td>\n",
       "      <td>female</td>\n",
       "      <td>8</td>\n",
       "    </tr>\n",
       "    <tr>\n",
       "      <th>70</th>\n",
       "      <td>Valorant</td>\n",
       "      <td>male</td>\n",
       "      <td>7</td>\n",
       "    </tr>\n",
       "    <tr>\n",
       "      <th>75</th>\n",
       "      <td>none</td>\n",
       "      <td>female</td>\n",
       "      <td>27</td>\n",
       "    </tr>\n",
       "    <tr>\n",
       "      <th>76</th>\n",
       "      <td>none</td>\n",
       "      <td>male</td>\n",
       "      <td>65</td>\n",
       "    </tr>\n",
       "  </tbody>\n",
       "</table>\n",
       "</div>"
      ],
      "text/plain": [
       "          streamed_game2 gender_streamer  count\n",
       "0           APEX Legends          female      3\n",
       "1           APEX Legends            male      3\n",
       "9   Call of Duty: Mobile          female      1\n",
       "10  Call of Duty: Mobile            male      4\n",
       "15                DOTA 2          female      4\n",
       "16                DOTA 2            male      5\n",
       "26        Genshin Impact          female      2\n",
       "27        Genshin Impact            male      6\n",
       "32     League of Legends          female     10\n",
       "33     League of Legends            male      7\n",
       "38        Mobile Legends          female      6\n",
       "39        Mobile Legends            male      9\n",
       "45                  PUBG          female      2\n",
       "46                  PUBG            male      6\n",
       "53          Phasmophobia          female      1\n",
       "54          Phasmophobia            male      5\n",
       "69              Valorant          female      8\n",
       "70              Valorant            male      7\n",
       "75                  none          female     27\n",
       "76                  none            male     65"
      ]
     },
     "execution_count": 30,
     "metadata": {},
     "output_type": "execute_result"
    }
   ],
   "source": [
    "addgender2 = data.groupby(['streamed_game2','gender_streamer']).size().reset_index(name='count')\n",
    "final2 = addgender2\n",
    "top2_final10 = final2[final2.streamed_game2.isin(games2_table['game'])]\n",
    "top2_final10"
   ]
  },
  {
   "cell_type": "code",
   "execution_count": 31,
   "id": "ca3202d0-fd3b-4342-bc47-c6caba01d921",
   "metadata": {},
   "outputs": [
    {
     "data": {
      "image/png": "[encoded data removed]",
      "text/plain": [
       "<Figure size 1440x468 with 1 Axes>"
      ]
     },
     "metadata": {
      "needs_background": "light"
     },
     "output_type": "display_data"
    }
   ],
   "source": [
    "gender_plat2_plot = sns.catplot(x=\"streamed_game2\", y=\"count\",\n",
    "                                   kind=\"bar\", \n",
    "                                   hue=\"gender_streamer\", \n",
    "                                   palette={\"male\": \"green\", \"female\": \"orange\"}, \n",
    "                                   data=top2_final10)\n",
    "gender_plat2_plot.fig.set_size_inches(20, 6.5)"
   ]
  },
  {
   "cell_type": "markdown",
   "id": "c81e1f65-5310-4370-a941-0d7b8a913bdf",
   "metadata": {},
   "source": [
    "#### **Observation**"
   ]
  },
  {
   "cell_type": "markdown",
   "id": "3d9a3c13-e918-4a9e-9934-c6d2c2abcef5",
   "metadata": {},
   "source": [
    "The streamers that started during the pandemic are the majority in our dataset and they only have one game to stream so most as seen in the graph has no second game."
   ]
  },
  {
   "cell_type": "code",
   "execution_count": 32,
   "id": "10328090-ea40-4747-ae91-2d6ed9be2bb2",
   "metadata": {},
   "outputs": [
    {
     "data": {
      "text/html": [
       "<div>\n",
       "<style scoped>\n",
       "    .dataframe tbody tr th:only-of-type {\n",
       "        vertical-align: middle;\n",
       "    }\n",
       "\n",
       "    .dataframe tbody tr th {\n",
       "        vertical-align: top;\n",
       "    }\n",
       "\n",
       "    .dataframe thead th {\n",
       "        text-align: right;\n",
       "    }\n",
       "</style>\n",
       "<table border=\"1\" class=\"dataframe\">\n",
       "  <thead>\n",
       "    <tr style=\"text-align: right;\">\n",
       "      <th></th>\n",
       "      <th>streamed_game3</th>\n",
       "      <th>gender_streamer</th>\n",
       "      <th>count</th>\n",
       "    </tr>\n",
       "  </thead>\n",
       "  <tbody>\n",
       "    <tr>\n",
       "      <th>0</th>\n",
       "      <td>APEX Legends</td>\n",
       "      <td>female</td>\n",
       "      <td>1</td>\n",
       "    </tr>\n",
       "    <tr>\n",
       "      <th>1</th>\n",
       "      <td>APEX Legends</td>\n",
       "      <td>male</td>\n",
       "      <td>3</td>\n",
       "    </tr>\n",
       "    <tr>\n",
       "      <th>2</th>\n",
       "      <td>Among Us</td>\n",
       "      <td>female</td>\n",
       "      <td>2</td>\n",
       "    </tr>\n",
       "    <tr>\n",
       "      <th>3</th>\n",
       "      <td>Among Us</td>\n",
       "      <td>male</td>\n",
       "      <td>2</td>\n",
       "    </tr>\n",
       "    <tr>\n",
       "      <th>6</th>\n",
       "      <td>CS:GO</td>\n",
       "      <td>male</td>\n",
       "      <td>4</td>\n",
       "    </tr>\n",
       "    <tr>\n",
       "      <th>7</th>\n",
       "      <td>Call Of Duty: Warzone</td>\n",
       "      <td>female</td>\n",
       "      <td>1</td>\n",
       "    </tr>\n",
       "    <tr>\n",
       "      <th>8</th>\n",
       "      <td>Call Of Duty: Warzone</td>\n",
       "      <td>male</td>\n",
       "      <td>3</td>\n",
       "    </tr>\n",
       "    <tr>\n",
       "      <th>19</th>\n",
       "      <td>Fortnite</td>\n",
       "      <td>female</td>\n",
       "      <td>2</td>\n",
       "    </tr>\n",
       "    <tr>\n",
       "      <th>20</th>\n",
       "      <td>Fortnite</td>\n",
       "      <td>male</td>\n",
       "      <td>2</td>\n",
       "    </tr>\n",
       "    <tr>\n",
       "      <th>29</th>\n",
       "      <td>League of Legends</td>\n",
       "      <td>female</td>\n",
       "      <td>4</td>\n",
       "    </tr>\n",
       "    <tr>\n",
       "      <th>30</th>\n",
       "      <td>League of Legends</td>\n",
       "      <td>male</td>\n",
       "      <td>5</td>\n",
       "    </tr>\n",
       "    <tr>\n",
       "      <th>38</th>\n",
       "      <td>Mobile Legends</td>\n",
       "      <td>female</td>\n",
       "      <td>1</td>\n",
       "    </tr>\n",
       "    <tr>\n",
       "      <th>39</th>\n",
       "      <td>Mobile Legends</td>\n",
       "      <td>male</td>\n",
       "      <td>5</td>\n",
       "    </tr>\n",
       "    <tr>\n",
       "      <th>45</th>\n",
       "      <td>PUBG</td>\n",
       "      <td>female</td>\n",
       "      <td>2</td>\n",
       "    </tr>\n",
       "    <tr>\n",
       "      <th>46</th>\n",
       "      <td>PUBG</td>\n",
       "      <td>male</td>\n",
       "      <td>3</td>\n",
       "    </tr>\n",
       "    <tr>\n",
       "      <th>64</th>\n",
       "      <td>Valorant</td>\n",
       "      <td>female</td>\n",
       "      <td>4</td>\n",
       "    </tr>\n",
       "    <tr>\n",
       "      <th>65</th>\n",
       "      <td>Valorant</td>\n",
       "      <td>male</td>\n",
       "      <td>2</td>\n",
       "    </tr>\n",
       "    <tr>\n",
       "      <th>73</th>\n",
       "      <td>none</td>\n",
       "      <td>female</td>\n",
       "      <td>42</td>\n",
       "    </tr>\n",
       "    <tr>\n",
       "      <th>74</th>\n",
       "      <td>none</td>\n",
       "      <td>male</td>\n",
       "      <td>103</td>\n",
       "    </tr>\n",
       "  </tbody>\n",
       "</table>\n",
       "</div>"
      ],
      "text/plain": [
       "           streamed_game3 gender_streamer  count\n",
       "0            APEX Legends          female      1\n",
       "1            APEX Legends            male      3\n",
       "2                Among Us          female      2\n",
       "3                Among Us            male      2\n",
       "6                   CS:GO            male      4\n",
       "7   Call Of Duty: Warzone          female      1\n",
       "8   Call Of Duty: Warzone            male      3\n",
       "19               Fortnite          female      2\n",
       "20               Fortnite            male      2\n",
       "29      League of Legends          female      4\n",
       "30      League of Legends            male      5\n",
       "38         Mobile Legends          female      1\n",
       "39         Mobile Legends            male      5\n",
       "45                   PUBG          female      2\n",
       "46                   PUBG            male      3\n",
       "64               Valorant          female      4\n",
       "65               Valorant            male      2\n",
       "73                   none          female     42\n",
       "74                   none            male    103"
      ]
     },
     "execution_count": 32,
     "metadata": {},
     "output_type": "execute_result"
    }
   ],
   "source": [
    "addgender3 = data.groupby(['streamed_game3','gender_streamer']).size().reset_index(name='count')\n",
    "final3 = addgender3\n",
    "top3_final10 = final3[final3.streamed_game3.isin(games3_table['game'])]\n",
    "top3_final10"
   ]
  },
  {
   "cell_type": "code",
   "execution_count": 33,
   "id": "53ebdeb6-54c4-46e4-ba5e-af2344df3df0",
   "metadata": {},
   "outputs": [
    {
     "data": {
      "image/png": "[encoded data removed]",
      "text/plain": [
       "<Figure size 1440x468 with 1 Axes>"
      ]
     },
     "metadata": {
      "needs_background": "light"
     },
     "output_type": "display_data"
    }
   ],
   "source": [
    "gender_plat3_plot = sns.catplot(x=\"streamed_game3\", y=\"count\",\n",
    "                                   kind=\"bar\", \n",
    "                                   hue=\"gender_streamer\", \n",
    "                                   palette={\"male\": \"green\", \"female\": \"orange\"}, \n",
    "                                   data=top3_final10)\n",
    "gender_plat3_plot.fig.set_size_inches(20, 6.5)"
   ]
  },
  {
   "cell_type": "markdown",
   "id": "4d321d31-b1dc-4a44-916b-367b2e54af8c",
   "metadata": {},
   "source": [
    "#### **Observation**"
   ]
  },
  {
   "cell_type": "markdown",
   "id": "4dcf24e4-5da3-4fa6-9653-4e5ff82e91d3",
   "metadata": {},
   "source": [
    "The streamers that started during the pandemic are the majority in our dataset and they only have one game to stream so most as seen in the graph has no third game."
   ]
  },
  {
   "cell_type": "markdown",
   "id": "8f547555-7a43-4eef-a063-66c04b6e3e97",
   "metadata": {},
   "source": [
    "### Year started of the top 20 streamers (based on their followers)."
   ]
  },
  {
   "cell_type": "code",
   "execution_count": 34,
   "id": "f298a409-245e-4e88-9ca7-a3e0f15c3856",
   "metadata": {},
   "outputs": [
    {
     "data": {
      "image/png": "[encoded data removed]",
      "text/plain": [
       "<Figure size 720x432 with 1 Axes>"
      ]
     },
     "metadata": {
      "needs_background": "light"
     },
     "output_type": "display_data"
    }
   ],
   "source": [
    "follower_year_plot = sns.catplot(x=\"year_started\", kind=\"count\", data=followers_table) # Limit the maximum y-axis value because of one outlier count for age 52\n",
    "follower_year_plot.fig.set_size_inches(10, 6)"
   ]
  },
  {
   "cell_type": "markdown",
   "id": "da1e2db0-2cf8-4f31-9ed8-462546b77aa6",
   "metadata": {},
   "source": [
    "#### **Observation**"
   ]
  },
  {
   "cell_type": "markdown",
   "id": "b7d30b8d-b34d-46c6-92a8-5f78a6eb58e0",
   "metadata": {},
   "source": [
    "The graph shows that from the top 20 streamers that have the most followers, 2017 is the year that has the most. From 2017 up to 2020 have high streamer counts."
   ]
  },
  {
   "cell_type": "markdown",
   "id": "73c1b25c-2225-4519-889b-09c3a048313a",
   "metadata": {},
   "source": [
    "### Gender of the top 20 streamers (based on their followers)."
   ]
  },
  {
   "cell_type": "code",
   "execution_count": 35,
   "id": "e8d7fbfd-1cd8-4e7c-9bd0-79486e06a116",
   "metadata": {},
   "outputs": [
    {
     "data": {
      "image/png": "[encoded data removed]",
      "text/plain": [
       "<Figure size 504x360 with 1 Axes>"
      ]
     },
     "metadata": {
      "needs_background": "light"
     },
     "output_type": "display_data"
    }
   ],
   "source": [
    "follower_gender_plot = sns.catplot(x=\"gender_streamer\", kind=\"count\", data=followers_table) # Limit the maximum y-axis value because of one outlier count for age 52\n",
    "follower_gender_plot.fig.set_size_inches(7, 5)"
   ]
  },
  {
   "cell_type": "markdown",
   "id": "942a22b0-c4e3-4470-809a-ad713aa490da",
   "metadata": {},
   "source": [
    "#### **Observation**"
   ]
  },
  {
   "cell_type": "markdown",
   "id": "fbcd37fa-5015-4ae3-852a-2ba9fec39086",
   "metadata": {},
   "source": [
    "We can see from the graph that from the top 20 streamers that have the most followers, it has an equal distribution of gender."
   ]
  },
  {
   "cell_type": "code",
   "execution_count": null,
   "id": "c4b98e66-7ceb-4e36-bbcd-7017b6fb5586",
   "metadata": {},
   "outputs": [],
   "source": []
  },
  {
   "cell_type": "code",
   "execution_count": null,
   "id": "ed5f9ebd-7021-4d14-baee-01f78bbcf328",
   "metadata": {},
   "outputs": [],
   "source": []
  }
 ],
 "metadata": {
  "kernelspec": {
   "display_name": "Python 3",
   "language": "python",
   "name": "python3"
  },
  "language_info": {
   "codemirror_mode": {
    "name": "ipython",
    "version": 3
   },
   "file_extension": ".py",
   "mimetype": "text/x-python",
   "name": "python",
   "nbconvert_exporter": "python",
   "pygments_lexer": "ipython3",
   "version": "3.9.2"
  }
 },
 "nbformat": 4,
 "nbformat_minor": 5
}
